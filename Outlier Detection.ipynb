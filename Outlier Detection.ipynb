{
  "cells": [
    {
      "cell_type": "markdown",
      "metadata": {
        "id": "_EbKIUQZSc30"
      },
      "source": [
        "# E-commerce Fraud Detection \n",
        "* Use case: Predicts the probability that the first transaction of a new user is fraudulent."
      ]
    },
    {
      "cell_type": "markdown",
      "metadata": {
        "id": "zfjXN4EwS3eo"
      },
      "source": [
        "# Part 1: Import Data"
      ]
    },
    {
      "cell_type": "code",
      "execution_count": 69,
      "metadata": {
        "id": "iSjSPRXiRQuI"
      },
      "outputs": [],
      "source": [
        "import pandas as pd\n",
        "import numpy as np\n",
        "import time\n",
        "import matplotlib.pyplot as plt\n",
        "import pandas as pd\n",
        "from sklearn import metrics\n",
        "from sklearn.metrics import roc_curve\n",
        "from sklearn.model_selection import train_test_split\n",
        "from sklearn.linear_model import LogisticRegression\n",
        "from sklearn.ensemble import RandomForestClassifier\n",
        "from imblearn.over_sampling import SMOTE\n",
        "from sklearn import preprocessing\n",
        "from sklearn.preprocessing import MinMaxScaler\n",
        "from sklearn.metrics import f1_score, roc_auc_score, roc_curve, precision_recall_curve, auc, make_scorer, recall_score, accuracy_score, precision_score, confusion_matrix\n",
        "from sklearn.model_selection import GridSearchCV\n",
        "import warnings\n",
        "warnings.filterwarnings(\"ignore\")\n",
        "import xgboost as xgb\n",
        "from xgboost import XGBClassifier\n",
        "from imblearn.pipeline import Pipeline as imbpipeline"
      ]
    },
    {
      "cell_type": "code",
      "execution_count": 5,
      "metadata": {
        "colab": {
          "base_uri": "https://localhost:8080/",
          "height": 337
        },
        "id": "thNVhMYcTASW",
        "outputId": "10a58c84-d82b-42e2-edbd-43abc1b77685"
      },
      "outputs": [
        {
          "data": {
            "text/html": [
              "<div>\n",
              "<style scoped>\n",
              "    .dataframe tbody tr th:only-of-type {\n",
              "        vertical-align: middle;\n",
              "    }\n",
              "\n",
              "    .dataframe tbody tr th {\n",
              "        vertical-align: top;\n",
              "    }\n",
              "\n",
              "    .dataframe thead th {\n",
              "        text-align: right;\n",
              "    }\n",
              "</style>\n",
              "<table border=\"1\" class=\"dataframe\">\n",
              "  <thead>\n",
              "    <tr style=\"text-align: right;\">\n",
              "      <th></th>\n",
              "      <th>user_id</th>\n",
              "      <th>signup_time</th>\n",
              "      <th>purchase_time</th>\n",
              "      <th>purchase_value</th>\n",
              "      <th>device_id</th>\n",
              "      <th>source</th>\n",
              "      <th>browser</th>\n",
              "      <th>sex</th>\n",
              "      <th>age</th>\n",
              "      <th>ip_address</th>\n",
              "      <th>class</th>\n",
              "    </tr>\n",
              "  </thead>\n",
              "  <tbody>\n",
              "    <tr>\n",
              "      <th>0</th>\n",
              "      <td>22058</td>\n",
              "      <td>2015-02-24 22:55:49</td>\n",
              "      <td>2015-04-18 02:47:11</td>\n",
              "      <td>34</td>\n",
              "      <td>QVPSPJUOCKZAR</td>\n",
              "      <td>SEO</td>\n",
              "      <td>Chrome</td>\n",
              "      <td>M</td>\n",
              "      <td>39</td>\n",
              "      <td>7.327584e+08</td>\n",
              "      <td>0</td>\n",
              "    </tr>\n",
              "    <tr>\n",
              "      <th>1</th>\n",
              "      <td>333320</td>\n",
              "      <td>2015-06-07 20:39:50</td>\n",
              "      <td>2015-06-08 01:38:54</td>\n",
              "      <td>16</td>\n",
              "      <td>EOGFQPIZPYXFZ</td>\n",
              "      <td>Ads</td>\n",
              "      <td>Chrome</td>\n",
              "      <td>F</td>\n",
              "      <td>53</td>\n",
              "      <td>3.503114e+08</td>\n",
              "      <td>0</td>\n",
              "    </tr>\n",
              "    <tr>\n",
              "      <th>2</th>\n",
              "      <td>150084</td>\n",
              "      <td>2015-04-28 21:13:25</td>\n",
              "      <td>2015-05-04 13:54:50</td>\n",
              "      <td>44</td>\n",
              "      <td>ATGTXKYKUDUQN</td>\n",
              "      <td>SEO</td>\n",
              "      <td>Safari</td>\n",
              "      <td>M</td>\n",
              "      <td>41</td>\n",
              "      <td>3.840542e+09</td>\n",
              "      <td>0</td>\n",
              "    </tr>\n",
              "    <tr>\n",
              "      <th>3</th>\n",
              "      <td>221365</td>\n",
              "      <td>2015-07-21 07:09:52</td>\n",
              "      <td>2015-09-09 18:40:53</td>\n",
              "      <td>39</td>\n",
              "      <td>NAUITBZFJKHWW</td>\n",
              "      <td>Ads</td>\n",
              "      <td>Safari</td>\n",
              "      <td>M</td>\n",
              "      <td>45</td>\n",
              "      <td>4.155831e+08</td>\n",
              "      <td>0</td>\n",
              "    </tr>\n",
              "    <tr>\n",
              "      <th>4</th>\n",
              "      <td>159135</td>\n",
              "      <td>2015-05-21 06:03:03</td>\n",
              "      <td>2015-07-09 08:05:14</td>\n",
              "      <td>42</td>\n",
              "      <td>ALEYXFXINSXLZ</td>\n",
              "      <td>Ads</td>\n",
              "      <td>Chrome</td>\n",
              "      <td>M</td>\n",
              "      <td>18</td>\n",
              "      <td>2.809315e+09</td>\n",
              "      <td>0</td>\n",
              "    </tr>\n",
              "  </tbody>\n",
              "</table>\n",
              "</div>"
            ],
            "text/plain": [
              "   user_id          signup_time        purchase_time  purchase_value  \\\n",
              "0    22058  2015-02-24 22:55:49  2015-04-18 02:47:11              34   \n",
              "1   333320  2015-06-07 20:39:50  2015-06-08 01:38:54              16   \n",
              "2   150084  2015-04-28 21:13:25  2015-05-04 13:54:50              44   \n",
              "3   221365  2015-07-21 07:09:52  2015-09-09 18:40:53              39   \n",
              "4   159135  2015-05-21 06:03:03  2015-07-09 08:05:14              42   \n",
              "\n",
              "       device_id source browser sex  age    ip_address  class  \n",
              "0  QVPSPJUOCKZAR    SEO  Chrome   M   39  7.327584e+08      0  \n",
              "1  EOGFQPIZPYXFZ    Ads  Chrome   F   53  3.503114e+08      0  \n",
              "2  ATGTXKYKUDUQN    SEO  Safari   M   41  3.840542e+09      0  \n",
              "3  NAUITBZFJKHWW    Ads  Safari   M   45  4.155831e+08      0  \n",
              "4  ALEYXFXINSXLZ    Ads  Chrome   M   18  2.809315e+09      0  "
            ]
          },
          "execution_count": 5,
          "metadata": {},
          "output_type": "execute_result"
        }
      ],
      "source": [
        "ipToCountry = pd.read_csv('./data/IpAddress_to_Country.csv')\n",
        "fraud_data = pd.read_csv('./data/imbalancedFraudDF.csv')\n",
        "\n",
        "fraud_data.head()\n"
      ]
    },
    {
      "cell_type": "markdown",
      "metadata": {
        "id": "_iLQYt30nfTa"
      },
      "source": [
        "# Part 2: Data exploration"
      ]
    },
    {
      "cell_type": "code",
      "execution_count": 6,
      "metadata": {
        "colab": {
          "base_uri": "https://localhost:8080/"
        },
        "id": "quhyL2WSgrX7",
        "outputId": "0eb3bca2-a877-4699-d949-ca59269ddb9e"
      },
      "outputs": [
        {
          "data": {
            "text/plain": [
              "class\n",
              "0    136961\n",
              "1      1415\n",
              "Name: count, dtype: int64"
            ]
          },
          "execution_count": 6,
          "metadata": {},
          "output_type": "execute_result"
        }
      ],
      "source": [
        "#Distribution of the label column\n",
        "fraud_data['class'].value_counts()"
      ]
    },
    {
      "cell_type": "code",
      "execution_count": 7,
      "metadata": {
        "colab": {
          "base_uri": "https://localhost:8080/"
        },
        "id": "OQ1IS3v7t9MG",
        "outputId": "bf2b3f65-2715-4c6e-b1fc-41468085610a"
      },
      "outputs": [
        {
          "name": "stdout",
          "output_type": "stream",
          "text": [
            "<class 'pandas.core.frame.DataFrame'>\n",
            "RangeIndex: 138376 entries, 0 to 138375\n",
            "Data columns (total 11 columns):\n",
            " #   Column          Non-Null Count   Dtype  \n",
            "---  ------          --------------   -----  \n",
            " 0   user_id         138376 non-null  int64  \n",
            " 1   signup_time     138376 non-null  object \n",
            " 2   purchase_time   138376 non-null  object \n",
            " 3   purchase_value  138376 non-null  int64  \n",
            " 4   device_id       138376 non-null  object \n",
            " 5   source          138376 non-null  object \n",
            " 6   browser         138376 non-null  object \n",
            " 7   sex             138376 non-null  object \n",
            " 8   age             138376 non-null  int64  \n",
            " 9   ip_address      138376 non-null  float64\n",
            " 10  class           138376 non-null  int64  \n",
            "dtypes: float64(1), int64(4), object(6)\n",
            "memory usage: 11.6+ MB\n"
          ]
        }
      ],
      "source": [
        "fraud_data.info()"
      ]
    },
    {
      "cell_type": "code",
      "execution_count": 8,
      "metadata": {
        "colab": {
          "base_uri": "https://localhost:8080/",
          "height": 1000,
          "referenced_widgets": [
            "9c9e480b033c49b2893df0081ec6a65d",
            "61217bdd968d44a8b2ca02795d8cd3c3",
            "e708b62ee9ae4036b78046b70c3b9668",
            "c2e85a10e9814dc38bba98b0cbee0a0d",
            "4ead281ca47d4f3ca407d033b5574ec5",
            "656b8fbaf1784ad19f17208ba5214b28",
            "0b0dc64cac7d4b7ea1bed82aad3daf01",
            "4e92e82795664b25ba971c748fcc369c",
            "d8ffa655da36456d9d0d4642336acf0c",
            "588bee81f8d54b5484d7e69680ef1b47",
            "041c26cdb81b4263a99c774b16c77d12",
            "5a3a627f0ab84f189aab41e035f7e71d",
            "da109d1da7ce4a2d8527c3b79b591977",
            "91bfc95640bf4136aa5cababd5a9b311",
            "9abdb21bad9e4f91bfa8b09f986bff1f",
            "42f08b8865ce49dd89e757f0349942d9",
            "d25b43e743c54dcab32f97a3f30e8e66",
            "cbde2a5b18564e8790c38766bae7fa62",
            "ba79e4081b124dd7a3afcefbc2208d69",
            "281985ccb032407a9b1055680def95bb",
            "32ec186b2f6044159ea8a4365ad1e934",
            "c66bafdc0c45439f9c5d4c7c4d36df84",
            "ff409687574f47e1a5f35136f639255f",
            "54eb8a6b80ac403c9faf690965101f7e"
          ]
        },
        "id": "_KGwILife8bz",
        "outputId": "72b88525-ce38-42c5-90c8-ff81bcbdc825"
      },
      "outputs": [
        {
          "data": {
            "text/html": [
              "<div>\n",
              "<style scoped>\n",
              "    .dataframe tbody tr th:only-of-type {\n",
              "        vertical-align: middle;\n",
              "    }\n",
              "\n",
              "    .dataframe tbody tr th {\n",
              "        vertical-align: top;\n",
              "    }\n",
              "\n",
              "    .dataframe thead th {\n",
              "        text-align: right;\n",
              "    }\n",
              "</style>\n",
              "<table border=\"1\" class=\"dataframe\">\n",
              "  <thead>\n",
              "    <tr style=\"text-align: right;\">\n",
              "      <th></th>\n",
              "      <th>count</th>\n",
              "      <th>mean</th>\n",
              "      <th>std</th>\n",
              "      <th>min</th>\n",
              "      <th>25%</th>\n",
              "      <th>50%</th>\n",
              "      <th>75%</th>\n",
              "      <th>max</th>\n",
              "    </tr>\n",
              "  </thead>\n",
              "  <tbody>\n",
              "    <tr>\n",
              "      <th>user_id</th>\n",
              "      <td>138376.0</td>\n",
              "      <td>2.001490e+05</td>\n",
              "      <td>1.152268e+05</td>\n",
              "      <td>2.000000</td>\n",
              "      <td>1.008948e+05</td>\n",
              "      <td>2.000005e+05</td>\n",
              "      <td>2.997452e+05</td>\n",
              "      <td>4.000000e+05</td>\n",
              "    </tr>\n",
              "    <tr>\n",
              "      <th>purchase_value</th>\n",
              "      <td>138376.0</td>\n",
              "      <td>3.693899e+01</td>\n",
              "      <td>1.832109e+01</td>\n",
              "      <td>9.000000</td>\n",
              "      <td>2.200000e+01</td>\n",
              "      <td>3.500000e+01</td>\n",
              "      <td>4.900000e+01</td>\n",
              "      <td>1.540000e+02</td>\n",
              "    </tr>\n",
              "    <tr>\n",
              "      <th>age</th>\n",
              "      <td>138376.0</td>\n",
              "      <td>3.312587e+01</td>\n",
              "      <td>8.623645e+00</td>\n",
              "      <td>18.000000</td>\n",
              "      <td>2.700000e+01</td>\n",
              "      <td>3.300000e+01</td>\n",
              "      <td>3.900000e+01</td>\n",
              "      <td>7.600000e+01</td>\n",
              "    </tr>\n",
              "    <tr>\n",
              "      <th>ip_address</th>\n",
              "      <td>138376.0</td>\n",
              "      <td>2.154381e+09</td>\n",
              "      <td>1.250563e+09</td>\n",
              "      <td>52093.496895</td>\n",
              "      <td>1.085079e+09</td>\n",
              "      <td>2.156471e+09</td>\n",
              "      <td>3.249150e+09</td>\n",
              "      <td>4.294850e+09</td>\n",
              "    </tr>\n",
              "    <tr>\n",
              "      <th>class</th>\n",
              "      <td>138376.0</td>\n",
              "      <td>1.022576e-02</td>\n",
              "      <td>1.006045e-01</td>\n",
              "      <td>0.000000</td>\n",
              "      <td>0.000000e+00</td>\n",
              "      <td>0.000000e+00</td>\n",
              "      <td>0.000000e+00</td>\n",
              "      <td>1.000000e+00</td>\n",
              "    </tr>\n",
              "  </tbody>\n",
              "</table>\n",
              "</div>"
            ],
            "text/plain": [
              "                   count          mean           std           min  \\\n",
              "user_id         138376.0  2.001490e+05  1.152268e+05      2.000000   \n",
              "purchase_value  138376.0  3.693899e+01  1.832109e+01      9.000000   \n",
              "age             138376.0  3.312587e+01  8.623645e+00     18.000000   \n",
              "ip_address      138376.0  2.154381e+09  1.250563e+09  52093.496895   \n",
              "class           138376.0  1.022576e-02  1.006045e-01      0.000000   \n",
              "\n",
              "                         25%           50%           75%           max  \n",
              "user_id         1.008948e+05  2.000005e+05  2.997452e+05  4.000000e+05  \n",
              "purchase_value  2.200000e+01  3.500000e+01  4.900000e+01  1.540000e+02  \n",
              "age             2.700000e+01  3.300000e+01  3.900000e+01  7.600000e+01  \n",
              "ip_address      1.085079e+09  2.156471e+09  3.249150e+09  4.294850e+09  \n",
              "class           0.000000e+00  0.000000e+00  0.000000e+00  1.000000e+00  "
            ]
          },
          "execution_count": 8,
          "metadata": {},
          "output_type": "execute_result"
        }
      ],
      "source": [
        "fraud_data.describe().transpose()"
      ]
    },
    {
      "cell_type": "code",
      "execution_count": 9,
      "metadata": {
        "colab": {
          "base_uri": "https://localhost:8080/",
          "height": 225
        },
        "id": "KwG6iF08ikTk",
        "outputId": "f7ea7fca-4882-40b8-d0dd-f6e1f9ac9eca"
      },
      "outputs": [
        {
          "data": {
            "text/plain": [
              "user_id           0\n",
              "signup_time       0\n",
              "purchase_time     0\n",
              "purchase_value    0\n",
              "device_id         0\n",
              "source            0\n",
              "browser           0\n",
              "sex               0\n",
              "age               0\n",
              "ip_address        0\n",
              "class             0\n",
              "dtype: int64"
            ]
          },
          "execution_count": 9,
          "metadata": {},
          "output_type": "execute_result"
        }
      ],
      "source": [
        "fraud_data.isna().sum()"
      ]
    },
    {
      "cell_type": "markdown",
      "metadata": {
        "id": "EiQ5go5YnqWt"
      },
      "source": [
        "### Identify country info based on ip_address\n"
      ]
    },
    {
      "cell_type": "code",
      "execution_count": 10,
      "metadata": {
        "colab": {
          "base_uri": "https://localhost:8080/",
          "height": 202
        },
        "id": "2U50sqcWhmsV",
        "outputId": "fcf4aae3-c3bb-4e0c-b3b9-7fd672a6efe6"
      },
      "outputs": [
        {
          "data": {
            "text/html": [
              "<div>\n",
              "<style scoped>\n",
              "    .dataframe tbody tr th:only-of-type {\n",
              "        vertical-align: middle;\n",
              "    }\n",
              "\n",
              "    .dataframe tbody tr th {\n",
              "        vertical-align: top;\n",
              "    }\n",
              "\n",
              "    .dataframe thead th {\n",
              "        text-align: right;\n",
              "    }\n",
              "</style>\n",
              "<table border=\"1\" class=\"dataframe\">\n",
              "  <thead>\n",
              "    <tr style=\"text-align: right;\">\n",
              "      <th></th>\n",
              "      <th>lower_bound_ip_address</th>\n",
              "      <th>upper_bound_ip_address</th>\n",
              "      <th>country</th>\n",
              "    </tr>\n",
              "  </thead>\n",
              "  <tbody>\n",
              "    <tr>\n",
              "      <th>0</th>\n",
              "      <td>16777216.0</td>\n",
              "      <td>16777471</td>\n",
              "      <td>Australia</td>\n",
              "    </tr>\n",
              "    <tr>\n",
              "      <th>1</th>\n",
              "      <td>16777472.0</td>\n",
              "      <td>16777727</td>\n",
              "      <td>China</td>\n",
              "    </tr>\n",
              "    <tr>\n",
              "      <th>2</th>\n",
              "      <td>16777728.0</td>\n",
              "      <td>16778239</td>\n",
              "      <td>China</td>\n",
              "    </tr>\n",
              "    <tr>\n",
              "      <th>3</th>\n",
              "      <td>16778240.0</td>\n",
              "      <td>16779263</td>\n",
              "      <td>Australia</td>\n",
              "    </tr>\n",
              "    <tr>\n",
              "      <th>4</th>\n",
              "      <td>16779264.0</td>\n",
              "      <td>16781311</td>\n",
              "      <td>China</td>\n",
              "    </tr>\n",
              "  </tbody>\n",
              "</table>\n",
              "</div>"
            ],
            "text/plain": [
              "   lower_bound_ip_address  upper_bound_ip_address    country\n",
              "0              16777216.0                16777471  Australia\n",
              "1              16777472.0                16777727      China\n",
              "2              16777728.0                16778239      China\n",
              "3              16778240.0                16779263  Australia\n",
              "4              16779264.0                16781311      China"
            ]
          },
          "execution_count": 10,
          "metadata": {},
          "output_type": "execute_result"
        }
      ],
      "source": [
        "ipToCountry.head()"
      ]
    },
    {
      "cell_type": "code",
      "execution_count": 11,
      "metadata": {
        "colab": {
          "base_uri": "https://localhost:8080/"
        },
        "id": "-qR-Hpd7iuoF",
        "outputId": "6a7fb037-0f7a-4891-fd1c-a46efbb926c1"
      },
      "outputs": [
        {
          "name": "stdout",
          "output_type": "stream",
          "text": [
            "Lookup took 31.6942880153656 seconds.\n"
          ]
        }
      ],
      "source": [
        "start = time.time()\n",
        "\n",
        "countries = []\n",
        "for i in range(len(fraud_data)):\n",
        "    ip_address = fraud_data.loc[i, 'ip_address']#number\n",
        "    #check which interval does ip_address falls into\n",
        "    #below [] is list of T/F, only when this ip_address falls into the correct internal row does the index generate a True\n",
        "    #tmp is a df of shape n * 3, where n is 1 if found a match (ip_address falls in range) or 0 if no match\n",
        "    tmp = ipToCountry[(ipToCountry['lower_bound_ip_address'] <= ip_address) &\n",
        "                    (ipToCountry['upper_bound_ip_address'] >= ip_address)]\n",
        "    if len(tmp) == 1:#found match\n",
        "        countries.append(tmp['country'].values[0])\n",
        "    else:#no match\n",
        "        countries.append('NA')\n",
        "\n",
        "fraud_data['country'] = countries\n",
        "runtime = time.time() - start\n",
        "\n",
        "print(\"Lookup took\", runtime, \"seconds.\")\n",
        "\n"
      ]
    },
    {
      "cell_type": "code",
      "execution_count": 12,
      "metadata": {
        "colab": {
          "base_uri": "https://localhost:8080/"
        },
        "id": "yKrH6LbkiyGK",
        "outputId": "57703119-2150-46e7-95b8-0951824239aa"
      },
      "outputs": [
        {
          "name": "stdout",
          "output_type": "stream",
          "text": [
            "       lower_bound_ip_address  upper_bound_ip_address        country\n",
            "28203            1.686110e+09              1694498815  United States\n"
          ]
        }
      ],
      "source": [
        "ip_address = fraud_data.loc[6, 'ip_address']\n",
        "tmp = ipToCountry[(ipToCountry['lower_bound_ip_address'] <= ip_address) &\n",
        "                    (ipToCountry['upper_bound_ip_address'] >= ip_address)]\n",
        "print(tmp)"
      ]
    },
    {
      "cell_type": "code",
      "execution_count": 13,
      "metadata": {
        "colab": {
          "base_uri": "https://localhost:8080/"
        },
        "id": "e95zwtj4Tp5V",
        "outputId": "f85a0b4a-08e5-4d83-c562-fbd811d352dd"
      },
      "outputs": [
        {
          "name": "stdout",
          "output_type": "stream",
          "text": [
            "28203    United States\n",
            "Name: country, dtype: object\n"
          ]
        }
      ],
      "source": [
        "print(tmp['country'])"
      ]
    },
    {
      "cell_type": "markdown",
      "metadata": {},
      "source": [
        "Optimization: Since each ip range is not overlap in ipToCountry.csv, the binary search algorithm could be solved to imporve the time complexity to O(logn)."
      ]
    },
    {
      "cell_type": "code",
      "execution_count": 14,
      "metadata": {
        "colab": {
          "base_uri": "https://localhost:8080/",
          "height": 52
        },
        "id": "E5a3x5Qlj1eb",
        "outputId": "d43fdc0e-9d69-47b9-d81c-7ee9442f3a9e"
      },
      "outputs": [
        {
          "name": "stdout",
          "output_type": "stream",
          "text": [
            "138376\n",
            "138376\n"
          ]
        }
      ],
      "source": [
        "print(fraud_data.user_id.nunique())#138376\n",
        "print(len(fraud_data.index))#138376\n",
        "#all of the user_id has only the first 1 transaction, no way to do time based aggregates,"
      ]
    },
    {
      "cell_type": "markdown",
      "metadata": {
        "id": "aF-mLd9Rn4Hl"
      },
      "source": [
        "# Part 3a: Feature Engineering\n",
        "\n",
        "\n"
      ]
    },
    {
      "cell_type": "code",
      "execution_count": 15,
      "metadata": {
        "id": "XfqVxIEkmeAO"
      },
      "outputs": [],
      "source": [
        "#time related features: can be done before split, as they has no interaction between other rows, solely based on other columns of the same row\n",
        "fraud_data['interval_after_signup'] = (pd.to_datetime(fraud_data['purchase_time']) - pd.to_datetime(\n",
        "        fraud_data['signup_time'])).dt.total_seconds()\n",
        "\n",
        "fraud_data['signup_days_of_year'] = pd.DatetimeIndex(fraud_data['signup_time']).dayofyear\n",
        "\n",
        "#bed time operation\n",
        "fraud_data['signup_seconds_of_day'] = pd.DatetimeIndex(fraud_data['signup_time']).second + 60 * pd.DatetimeIndex(\n",
        "    fraud_data['signup_time']).minute + 3600 * pd.DatetimeIndex(fraud_data['signup_time']).hour\n",
        "\n",
        "fraud_data['purchase_days_of_year'] = pd.DatetimeIndex(fraud_data['purchase_time']).dayofyear\n",
        "fraud_data['purchase_seconds_of_day'] = pd.DatetimeIndex(fraud_data['purchase_time']).second + 60 * pd.DatetimeIndex(\n",
        "    fraud_data['purchase_time']).minute + 3600 * pd.DatetimeIndex(fraud_data['purchase_time']).hour\n",
        "\n",
        "fraud_data = fraud_data.drop(['user_id','signup_time','purchase_time'], axis=1)"
      ]
    },
    {
      "cell_type": "code",
      "execution_count": 16,
      "metadata": {
        "colab": {
          "base_uri": "https://localhost:8080/",
          "height": 305
        },
        "id": "GxeoVxccnT_9",
        "outputId": "5e72b175-57e2-4049-97da-eee15d6031c5"
      },
      "outputs": [
        {
          "data": {
            "text/html": [
              "<div>\n",
              "<style scoped>\n",
              "    .dataframe tbody tr th:only-of-type {\n",
              "        vertical-align: middle;\n",
              "    }\n",
              "\n",
              "    .dataframe tbody tr th {\n",
              "        vertical-align: top;\n",
              "    }\n",
              "\n",
              "    .dataframe thead th {\n",
              "        text-align: right;\n",
              "    }\n",
              "</style>\n",
              "<table border=\"1\" class=\"dataframe\">\n",
              "  <thead>\n",
              "    <tr style=\"text-align: right;\">\n",
              "      <th></th>\n",
              "      <th>purchase_value</th>\n",
              "      <th>device_id</th>\n",
              "      <th>source</th>\n",
              "      <th>browser</th>\n",
              "      <th>sex</th>\n",
              "      <th>age</th>\n",
              "      <th>ip_address</th>\n",
              "      <th>class</th>\n",
              "      <th>country</th>\n",
              "      <th>interval_after_signup</th>\n",
              "      <th>signup_days_of_year</th>\n",
              "      <th>signup_seconds_of_day</th>\n",
              "      <th>purchase_days_of_year</th>\n",
              "      <th>purchase_seconds_of_day</th>\n",
              "    </tr>\n",
              "  </thead>\n",
              "  <tbody>\n",
              "    <tr>\n",
              "      <th>0</th>\n",
              "      <td>34</td>\n",
              "      <td>QVPSPJUOCKZAR</td>\n",
              "      <td>SEO</td>\n",
              "      <td>Chrome</td>\n",
              "      <td>M</td>\n",
              "      <td>39</td>\n",
              "      <td>7.327584e+08</td>\n",
              "      <td>0</td>\n",
              "      <td>Japan</td>\n",
              "      <td>4506682.0</td>\n",
              "      <td>55</td>\n",
              "      <td>82549</td>\n",
              "      <td>108</td>\n",
              "      <td>10031</td>\n",
              "    </tr>\n",
              "    <tr>\n",
              "      <th>1</th>\n",
              "      <td>16</td>\n",
              "      <td>EOGFQPIZPYXFZ</td>\n",
              "      <td>Ads</td>\n",
              "      <td>Chrome</td>\n",
              "      <td>F</td>\n",
              "      <td>53</td>\n",
              "      <td>3.503114e+08</td>\n",
              "      <td>0</td>\n",
              "      <td>United States</td>\n",
              "      <td>17944.0</td>\n",
              "      <td>158</td>\n",
              "      <td>74390</td>\n",
              "      <td>159</td>\n",
              "      <td>5934</td>\n",
              "    </tr>\n",
              "    <tr>\n",
              "      <th>2</th>\n",
              "      <td>44</td>\n",
              "      <td>ATGTXKYKUDUQN</td>\n",
              "      <td>SEO</td>\n",
              "      <td>Safari</td>\n",
              "      <td>M</td>\n",
              "      <td>41</td>\n",
              "      <td>3.840542e+09</td>\n",
              "      <td>0</td>\n",
              "      <td>NA</td>\n",
              "      <td>492085.0</td>\n",
              "      <td>118</td>\n",
              "      <td>76405</td>\n",
              "      <td>124</td>\n",
              "      <td>50090</td>\n",
              "    </tr>\n",
              "    <tr>\n",
              "      <th>3</th>\n",
              "      <td>39</td>\n",
              "      <td>NAUITBZFJKHWW</td>\n",
              "      <td>Ads</td>\n",
              "      <td>Safari</td>\n",
              "      <td>M</td>\n",
              "      <td>45</td>\n",
              "      <td>4.155831e+08</td>\n",
              "      <td>0</td>\n",
              "      <td>United States</td>\n",
              "      <td>4361461.0</td>\n",
              "      <td>202</td>\n",
              "      <td>25792</td>\n",
              "      <td>252</td>\n",
              "      <td>67253</td>\n",
              "    </tr>\n",
              "    <tr>\n",
              "      <th>4</th>\n",
              "      <td>42</td>\n",
              "      <td>ALEYXFXINSXLZ</td>\n",
              "      <td>Ads</td>\n",
              "      <td>Chrome</td>\n",
              "      <td>M</td>\n",
              "      <td>18</td>\n",
              "      <td>2.809315e+09</td>\n",
              "      <td>0</td>\n",
              "      <td>Canada</td>\n",
              "      <td>4240931.0</td>\n",
              "      <td>141</td>\n",
              "      <td>21783</td>\n",
              "      <td>190</td>\n",
              "      <td>29114</td>\n",
              "    </tr>\n",
              "  </tbody>\n",
              "</table>\n",
              "</div>"
            ],
            "text/plain": [
              "   purchase_value      device_id source browser sex  age    ip_address  class  \\\n",
              "0              34  QVPSPJUOCKZAR    SEO  Chrome   M   39  7.327584e+08      0   \n",
              "1              16  EOGFQPIZPYXFZ    Ads  Chrome   F   53  3.503114e+08      0   \n",
              "2              44  ATGTXKYKUDUQN    SEO  Safari   M   41  3.840542e+09      0   \n",
              "3              39  NAUITBZFJKHWW    Ads  Safari   M   45  4.155831e+08      0   \n",
              "4              42  ALEYXFXINSXLZ    Ads  Chrome   M   18  2.809315e+09      0   \n",
              "\n",
              "         country  interval_after_signup  signup_days_of_year  \\\n",
              "0          Japan              4506682.0                   55   \n",
              "1  United States                17944.0                  158   \n",
              "2             NA               492085.0                  118   \n",
              "3  United States              4361461.0                  202   \n",
              "4         Canada              4240931.0                  141   \n",
              "\n",
              "   signup_seconds_of_day  purchase_days_of_year  purchase_seconds_of_day  \n",
              "0                  82549                    108                    10031  \n",
              "1                  74390                    159                     5934  \n",
              "2                  76405                    124                    50090  \n",
              "3                  25792                    252                    67253  \n",
              "4                  21783                    190                    29114  "
            ]
          },
          "execution_count": 16,
          "metadata": {},
          "output_type": "execute_result"
        }
      ],
      "source": [
        "fraud_data.head()\n",
        "#note there are NAs in country"
      ]
    },
    {
      "cell_type": "code",
      "execution_count": 17,
      "metadata": {
        "colab": {
          "base_uri": "https://localhost:8080/"
        },
        "id": "V2RfWnIyvM7w",
        "outputId": "6704fe33-14b4-4b61-f666-4b25a8baefbf"
      },
      "outputs": [
        {
          "name": "stdout",
          "output_type": "stream",
          "text": [
            "<class 'pandas.core.frame.DataFrame'>\n",
            "RangeIndex: 138376 entries, 0 to 138375\n",
            "Data columns (total 14 columns):\n",
            " #   Column                   Non-Null Count   Dtype  \n",
            "---  ------                   --------------   -----  \n",
            " 0   purchase_value           138376 non-null  int64  \n",
            " 1   device_id                138376 non-null  object \n",
            " 2   source                   138376 non-null  object \n",
            " 3   browser                  138376 non-null  object \n",
            " 4   sex                      138376 non-null  object \n",
            " 5   age                      138376 non-null  int64  \n",
            " 6   ip_address               138376 non-null  float64\n",
            " 7   class                    138376 non-null  int64  \n",
            " 8   country                  138376 non-null  object \n",
            " 9   interval_after_signup    138376 non-null  float64\n",
            " 10  signup_days_of_year      138376 non-null  int32  \n",
            " 11  signup_seconds_of_day    138376 non-null  int32  \n",
            " 12  purchase_days_of_year    138376 non-null  int32  \n",
            " 13  purchase_seconds_of_day  138376 non-null  int32  \n",
            "dtypes: float64(2), int32(4), int64(3), object(5)\n",
            "memory usage: 12.7+ MB\n"
          ]
        }
      ],
      "source": [
        "fraud_data.info()"
      ]
    },
    {
      "cell_type": "code",
      "execution_count": 18,
      "metadata": {
        "colab": {
          "base_uri": "https://localhost:8080/",
          "height": 87
        },
        "id": "vn7GvQhEnWWp",
        "outputId": "60612598-9199-4af5-fe89-2650c2c88eba"
      },
      "outputs": [
        {
          "name": "stdout",
          "output_type": "stream",
          "text": [
            "source\n",
            "SEO       55766\n",
            "Ads       54913\n",
            "Direct    27697\n",
            "Name: count, dtype: int64\n"
          ]
        }
      ],
      "source": [
        "print(fraud_data.source.value_counts())"
      ]
    },
    {
      "cell_type": "code",
      "execution_count": 19,
      "metadata": {},
      "outputs": [
        {
          "name": "stdout",
          "output_type": "stream",
          "text": [
            "browser\n",
            "Chrome     55993\n",
            "IE         33836\n",
            "Safari     22670\n",
            "FireFox    22500\n",
            "Opera       3377\n",
            "Name: count, dtype: int64\n"
          ]
        }
      ],
      "source": [
        "print(fraud_data.browser.value_counts())"
      ]
    },
    {
      "cell_type": "markdown",
      "metadata": {
        "id": "J2Rr6MOzoLBn"
      },
      "source": [
        "# Part 4: Data Split"
      ]
    },
    {
      "cell_type": "code",
      "execution_count": 20,
      "metadata": {
        "colab": {
          "base_uri": "https://localhost:8080/"
        },
        "id": "-nTN1t_8njt1",
        "outputId": "faf987a7-a961-467d-d05c-2aaba1561e61"
      },
      "outputs": [
        {
          "name": "stdout",
          "output_type": "stream",
          "text": [
            "X_train.shape: (110700, 13)\n",
            "y_train.shape: (110700,)\n"
          ]
        }
      ],
      "source": [
        "y = fraud_data['class']\n",
        "X = fraud_data.drop(['class'], axis=1)\n",
        "\n",
        "#split into train/test\n",
        "X_train, X_test, y_train, y_test = train_test_split(X, y, test_size=0.2, random_state=0)\n",
        "print(\"X_train.shape:\", X_train.shape)\n",
        "print(\"y_train.shape:\", y_train.shape)"
      ]
    },
    {
      "cell_type": "code",
      "execution_count": 21,
      "metadata": {
        "colab": {
          "base_uri": "https://localhost:8080/",
          "height": 274
        },
        "id": "anLm7Gl2n5oZ",
        "outputId": "f1232b90-d566-46c1-a38f-578830090079"
      },
      "outputs": [
        {
          "data": {
            "text/html": [
              "<div>\n",
              "<style scoped>\n",
              "    .dataframe tbody tr th:only-of-type {\n",
              "        vertical-align: middle;\n",
              "    }\n",
              "\n",
              "    .dataframe tbody tr th {\n",
              "        vertical-align: top;\n",
              "    }\n",
              "\n",
              "    .dataframe thead th {\n",
              "        text-align: right;\n",
              "    }\n",
              "</style>\n",
              "<table border=\"1\" class=\"dataframe\">\n",
              "  <thead>\n",
              "    <tr style=\"text-align: right;\">\n",
              "      <th></th>\n",
              "      <th>purchase_value</th>\n",
              "      <th>device_id</th>\n",
              "      <th>source</th>\n",
              "      <th>browser</th>\n",
              "      <th>sex</th>\n",
              "      <th>age</th>\n",
              "      <th>ip_address</th>\n",
              "      <th>country</th>\n",
              "      <th>interval_after_signup</th>\n",
              "      <th>signup_days_of_year</th>\n",
              "      <th>signup_seconds_of_day</th>\n",
              "      <th>purchase_days_of_year</th>\n",
              "      <th>purchase_seconds_of_day</th>\n",
              "    </tr>\n",
              "  </thead>\n",
              "  <tbody>\n",
              "    <tr>\n",
              "      <th>29343</th>\n",
              "      <td>12</td>\n",
              "      <td>OULPAZAFRFPXP</td>\n",
              "      <td>Ads</td>\n",
              "      <td>Chrome</td>\n",
              "      <td>M</td>\n",
              "      <td>42</td>\n",
              "      <td>3.690922e+09</td>\n",
              "      <td>Korea Republic of</td>\n",
              "      <td>3499664.0</td>\n",
              "      <td>183</td>\n",
              "      <td>67384</td>\n",
              "      <td>224</td>\n",
              "      <td>24648</td>\n",
              "    </tr>\n",
              "    <tr>\n",
              "      <th>12190</th>\n",
              "      <td>10</td>\n",
              "      <td>AIIWMFEYQQIEB</td>\n",
              "      <td>Ads</td>\n",
              "      <td>Opera</td>\n",
              "      <td>M</td>\n",
              "      <td>29</td>\n",
              "      <td>1.686759e+09</td>\n",
              "      <td>United States</td>\n",
              "      <td>6766039.0</td>\n",
              "      <td>5</td>\n",
              "      <td>78146</td>\n",
              "      <td>84</td>\n",
              "      <td>18585</td>\n",
              "    </tr>\n",
              "    <tr>\n",
              "      <th>19388</th>\n",
              "      <td>34</td>\n",
              "      <td>VUVETBUPCIWJE</td>\n",
              "      <td>Direct</td>\n",
              "      <td>Chrome</td>\n",
              "      <td>M</td>\n",
              "      <td>53</td>\n",
              "      <td>4.138429e+09</td>\n",
              "      <td>NA</td>\n",
              "      <td>5870515.0</td>\n",
              "      <td>197</td>\n",
              "      <td>81354</td>\n",
              "      <td>265</td>\n",
              "      <td>76669</td>\n",
              "    </tr>\n",
              "    <tr>\n",
              "      <th>89104</th>\n",
              "      <td>48</td>\n",
              "      <td>QCFULAJOYKFUU</td>\n",
              "      <td>Ads</td>\n",
              "      <td>Chrome</td>\n",
              "      <td>M</td>\n",
              "      <td>29</td>\n",
              "      <td>9.617337e+07</td>\n",
              "      <td>France</td>\n",
              "      <td>2145618.0</td>\n",
              "      <td>160</td>\n",
              "      <td>30920</td>\n",
              "      <td>185</td>\n",
              "      <td>16538</td>\n",
              "    </tr>\n",
              "    <tr>\n",
              "      <th>82082</th>\n",
              "      <td>44</td>\n",
              "      <td>IHRWLMIJMEEEU</td>\n",
              "      <td>Ads</td>\n",
              "      <td>FireFox</td>\n",
              "      <td>M</td>\n",
              "      <td>24</td>\n",
              "      <td>1.936025e+09</td>\n",
              "      <td>China</td>\n",
              "      <td>7079059.0</td>\n",
              "      <td>111</td>\n",
              "      <td>71897</td>\n",
              "      <td>193</td>\n",
              "      <td>66156</td>\n",
              "    </tr>\n",
              "  </tbody>\n",
              "</table>\n",
              "</div>"
            ],
            "text/plain": [
              "       purchase_value      device_id  source  browser sex  age    ip_address  \\\n",
              "29343              12  OULPAZAFRFPXP     Ads   Chrome   M   42  3.690922e+09   \n",
              "12190              10  AIIWMFEYQQIEB     Ads    Opera   M   29  1.686759e+09   \n",
              "19388              34  VUVETBUPCIWJE  Direct   Chrome   M   53  4.138429e+09   \n",
              "89104              48  QCFULAJOYKFUU     Ads   Chrome   M   29  9.617337e+07   \n",
              "82082              44  IHRWLMIJMEEEU     Ads  FireFox   M   24  1.936025e+09   \n",
              "\n",
              "                 country  interval_after_signup  signup_days_of_year  \\\n",
              "29343  Korea Republic of              3499664.0                  183   \n",
              "12190      United States              6766039.0                    5   \n",
              "19388                 NA              5870515.0                  197   \n",
              "89104             France              2145618.0                  160   \n",
              "82082              China              7079059.0                  111   \n",
              "\n",
              "       signup_seconds_of_day  purchase_days_of_year  purchase_seconds_of_day  \n",
              "29343                  67384                    224                    24648  \n",
              "12190                  78146                     84                    18585  \n",
              "19388                  81354                    265                    76669  \n",
              "89104                  30920                    185                    16538  \n",
              "82082                  71897                    193                    66156  "
            ]
          },
          "execution_count": 21,
          "metadata": {},
          "output_type": "execute_result"
        }
      ],
      "source": [
        "X_train.head()"
      ]
    },
    {
      "cell_type": "markdown",
      "metadata": {
        "id": "wei-ENjfoScj"
      },
      "source": [
        "# Part 3b: Feature Engineering\n"
      ]
    },
    {
      "cell_type": "markdown",
      "metadata": {
        "id": "HAhaHA5jn-mx"
      },
      "source": [
        "Convert categorical features with high cadinality to numericals"
      ]
    },
    {
      "cell_type": "code",
      "execution_count": 22,
      "metadata": {
        "colab": {
          "base_uri": "https://localhost:8080/"
        },
        "id": "IFSiiosOwEWB",
        "outputId": "0a8e0502-93a3-4a98-8319-09caa6a1fb13"
      },
      "outputs": [
        {
          "data": {
            "text/plain": [
              "device_id\n",
              "QTXDJHIIXYVQN    6\n",
              "LQXZGPLMKAJJV    5\n",
              "VSMNAOFPSEQOL    5\n",
              "HSKCGAKNSEMHZ    5\n",
              "HCYSLYNRFLAXU    5\n",
              "                ..\n",
              "DSCGCXUUKUBRR    1\n",
              "PMEXPXTLZCZUV    1\n",
              "RCZGGVLPNZPXG    1\n",
              "TLUDXYOENHBNL    1\n",
              "AKABBOYHUDIAP    1\n",
              "Name: count, Length: 107963, dtype: int64"
            ]
          },
          "execution_count": 22,
          "metadata": {},
          "output_type": "execute_result"
        }
      ],
      "source": [
        "X_train.device_id.value_counts(dropna=False)"
      ]
    },
    {
      "cell_type": "code",
      "execution_count": 23,
      "metadata": {
        "colab": {
          "base_uri": "https://localhost:8080/"
        },
        "id": "ghbLj7Mfye3I",
        "outputId": "7057064d-4aff-4657-95d8-75760c702421"
      },
      "outputs": [
        {
          "data": {
            "text/plain": [
              "country\n",
              "United States                           10675\n",
              "NA                                       4016\n",
              "China                                    2234\n",
              "Japan                                    1413\n",
              "United Kingdom                            801\n",
              "                                        ...  \n",
              "Belize                                      1\n",
              "Congo The Democratic Republic of The        1\n",
              "Vanuatu                                     1\n",
              "Albania                                     1\n",
              "Tanzania United Republic of                 1\n",
              "Name: count, Length: 156, dtype: int64"
            ]
          },
          "execution_count": 23,
          "metadata": {},
          "output_type": "execute_result"
        }
      ],
      "source": [
        "X_test.country.value_counts(dropna=False)"
      ]
    },
    {
      "cell_type": "code",
      "execution_count": 24,
      "metadata": {
        "id": "Z8aYaDZRn72y"
      },
      "outputs": [],
      "source": [
        "#converting needs to be done after split\n",
        "X_train = pd.get_dummies(X_train, columns=['source', 'browser'])#need to drop ['source', 'browser']? no, auto dropped by get_dummies\n",
        "X_train['sex'] = (X_train.sex == 'M').astype(int)\n",
        "\n",
        "# the more a device is shared, the more suspicious\n",
        "# if device_id abc occurred 100 times in X_train, then replace all abc in device_id col in X_train by 100\n",
        "X_train_device_id_mapping = X_train.device_id.value_counts(dropna=False)\n",
        "X_train['n_dev_shared'] = X_train.device_id.map(X_train_device_id_mapping)# number of times device_id occurred in train data\n",
        "\n",
        "# the more a ip is shared, the more suspicious\n",
        "X_train_ip_address_mapping = X_train.ip_address.value_counts(dropna=False)\n",
        "X_train['n_ip_shared'] = X_train.ip_address.map(X_train_ip_address_mapping)\n",
        "\n",
        "# the less visit from a country, the more suspicious\n",
        "X_train_country_mapping = X_train.country.value_counts(dropna=False)#include counts of NaN\n",
        "X_train['n_country_shared'] = X_train.country.map(X_train_country_mapping)#lots of NAs in country column, without dropna=False will produce nan in this col\n",
        "\n",
        "\n",
        "X_train = X_train.drop(['device_id','ip_address','country'], axis=1)\n",
        "\n",
        "\n"
      ]
    },
    {
      "cell_type": "code",
      "execution_count": 25,
      "metadata": {
        "colab": {
          "base_uri": "https://localhost:8080/",
          "height": 222
        },
        "id": "IOmaHr8zoFIB",
        "outputId": "3b5bbcf9-59ab-484c-91fe-236d92b919a0"
      },
      "outputs": [
        {
          "data": {
            "text/html": [
              "<div>\n",
              "<style scoped>\n",
              "    .dataframe tbody tr th:only-of-type {\n",
              "        vertical-align: middle;\n",
              "    }\n",
              "\n",
              "    .dataframe tbody tr th {\n",
              "        vertical-align: top;\n",
              "    }\n",
              "\n",
              "    .dataframe thead th {\n",
              "        text-align: right;\n",
              "    }\n",
              "</style>\n",
              "<table border=\"1\" class=\"dataframe\">\n",
              "  <thead>\n",
              "    <tr style=\"text-align: right;\">\n",
              "      <th></th>\n",
              "      <th>purchase_value</th>\n",
              "      <th>sex</th>\n",
              "      <th>age</th>\n",
              "      <th>interval_after_signup</th>\n",
              "      <th>signup_days_of_year</th>\n",
              "      <th>signup_seconds_of_day</th>\n",
              "      <th>purchase_days_of_year</th>\n",
              "      <th>purchase_seconds_of_day</th>\n",
              "      <th>source_Ads</th>\n",
              "      <th>source_Direct</th>\n",
              "      <th>source_SEO</th>\n",
              "      <th>browser_Chrome</th>\n",
              "      <th>browser_FireFox</th>\n",
              "      <th>browser_IE</th>\n",
              "      <th>browser_Opera</th>\n",
              "      <th>browser_Safari</th>\n",
              "      <th>n_dev_shared</th>\n",
              "      <th>n_ip_shared</th>\n",
              "      <th>n_country_shared</th>\n",
              "    </tr>\n",
              "  </thead>\n",
              "  <tbody>\n",
              "    <tr>\n",
              "      <th>29343</th>\n",
              "      <td>12</td>\n",
              "      <td>1</td>\n",
              "      <td>42</td>\n",
              "      <td>3499664.0</td>\n",
              "      <td>183</td>\n",
              "      <td>67384</td>\n",
              "      <td>224</td>\n",
              "      <td>24648</td>\n",
              "      <td>True</td>\n",
              "      <td>False</td>\n",
              "      <td>False</td>\n",
              "      <td>True</td>\n",
              "      <td>False</td>\n",
              "      <td>False</td>\n",
              "      <td>False</td>\n",
              "      <td>False</td>\n",
              "      <td>1</td>\n",
              "      <td>1</td>\n",
              "      <td>3075</td>\n",
              "    </tr>\n",
              "    <tr>\n",
              "      <th>12190</th>\n",
              "      <td>10</td>\n",
              "      <td>1</td>\n",
              "      <td>29</td>\n",
              "      <td>6766039.0</td>\n",
              "      <td>5</td>\n",
              "      <td>78146</td>\n",
              "      <td>84</td>\n",
              "      <td>18585</td>\n",
              "      <td>True</td>\n",
              "      <td>False</td>\n",
              "      <td>False</td>\n",
              "      <td>False</td>\n",
              "      <td>False</td>\n",
              "      <td>False</td>\n",
              "      <td>True</td>\n",
              "      <td>False</td>\n",
              "      <td>1</td>\n",
              "      <td>1</td>\n",
              "      <td>42348</td>\n",
              "    </tr>\n",
              "    <tr>\n",
              "      <th>19388</th>\n",
              "      <td>34</td>\n",
              "      <td>1</td>\n",
              "      <td>53</td>\n",
              "      <td>5870515.0</td>\n",
              "      <td>197</td>\n",
              "      <td>81354</td>\n",
              "      <td>265</td>\n",
              "      <td>76669</td>\n",
              "      <td>False</td>\n",
              "      <td>True</td>\n",
              "      <td>False</td>\n",
              "      <td>True</td>\n",
              "      <td>False</td>\n",
              "      <td>False</td>\n",
              "      <td>False</td>\n",
              "      <td>False</td>\n",
              "      <td>1</td>\n",
              "      <td>1</td>\n",
              "      <td>16275</td>\n",
              "    </tr>\n",
              "    <tr>\n",
              "      <th>89104</th>\n",
              "      <td>48</td>\n",
              "      <td>1</td>\n",
              "      <td>29</td>\n",
              "      <td>2145618.0</td>\n",
              "      <td>160</td>\n",
              "      <td>30920</td>\n",
              "      <td>185</td>\n",
              "      <td>16538</td>\n",
              "      <td>True</td>\n",
              "      <td>False</td>\n",
              "      <td>False</td>\n",
              "      <td>True</td>\n",
              "      <td>False</td>\n",
              "      <td>False</td>\n",
              "      <td>False</td>\n",
              "      <td>False</td>\n",
              "      <td>1</td>\n",
              "      <td>1</td>\n",
              "      <td>2322</td>\n",
              "    </tr>\n",
              "    <tr>\n",
              "      <th>82082</th>\n",
              "      <td>44</td>\n",
              "      <td>1</td>\n",
              "      <td>24</td>\n",
              "      <td>7079059.0</td>\n",
              "      <td>111</td>\n",
              "      <td>71897</td>\n",
              "      <td>193</td>\n",
              "      <td>66156</td>\n",
              "      <td>True</td>\n",
              "      <td>False</td>\n",
              "      <td>False</td>\n",
              "      <td>False</td>\n",
              "      <td>True</td>\n",
              "      <td>False</td>\n",
              "      <td>False</td>\n",
              "      <td>False</td>\n",
              "      <td>1</td>\n",
              "      <td>1</td>\n",
              "      <td>8876</td>\n",
              "    </tr>\n",
              "  </tbody>\n",
              "</table>\n",
              "</div>"
            ],
            "text/plain": [
              "       purchase_value  sex  age  interval_after_signup  signup_days_of_year  \\\n",
              "29343              12    1   42              3499664.0                  183   \n",
              "12190              10    1   29              6766039.0                    5   \n",
              "19388              34    1   53              5870515.0                  197   \n",
              "89104              48    1   29              2145618.0                  160   \n",
              "82082              44    1   24              7079059.0                  111   \n",
              "\n",
              "       signup_seconds_of_day  purchase_days_of_year  purchase_seconds_of_day  \\\n",
              "29343                  67384                    224                    24648   \n",
              "12190                  78146                     84                    18585   \n",
              "19388                  81354                    265                    76669   \n",
              "89104                  30920                    185                    16538   \n",
              "82082                  71897                    193                    66156   \n",
              "\n",
              "       source_Ads  source_Direct  source_SEO  browser_Chrome  browser_FireFox  \\\n",
              "29343        True          False       False            True            False   \n",
              "12190        True          False       False           False            False   \n",
              "19388       False           True       False            True            False   \n",
              "89104        True          False       False            True            False   \n",
              "82082        True          False       False           False             True   \n",
              "\n",
              "       browser_IE  browser_Opera  browser_Safari  n_dev_shared  n_ip_shared  \\\n",
              "29343       False          False           False             1            1   \n",
              "12190       False           True           False             1            1   \n",
              "19388       False          False           False             1            1   \n",
              "89104       False          False           False             1            1   \n",
              "82082       False          False           False             1            1   \n",
              "\n",
              "       n_country_shared  \n",
              "29343              3075  \n",
              "12190             42348  \n",
              "19388             16275  \n",
              "89104              2322  \n",
              "82082              8876  "
            ]
          },
          "execution_count": 25,
          "metadata": {},
          "output_type": "execute_result"
        }
      ],
      "source": [
        "X_train.head()"
      ]
    },
    {
      "cell_type": "code",
      "execution_count": 26,
      "metadata": {
        "id": "PHEn5NB2oBnX"
      },
      "outputs": [],
      "source": [
        "X_test = pd.get_dummies(X_test, columns=['source', 'browser'])\n",
        "X_test['sex'] = (X_test.sex == 'M').astype(int)\n",
        "# X_test['n_dev_shared'] = X_test.device_id.map(X_train_device_id_mapping)\n",
        "# X_test['n_ip_shared'] = X_test.ip_address.map(X_train_ip_address_mapping)\n",
        "# X_test['n_country_shared'] = X_test.country.map(X_train_country_mapping)\n",
        "\n",
        "\n",
        "# if apply train mapping, most of the levels in test does not occur in train, so most are null after converting as we can not find the keys in the train mapping, so redo mapping on test data\n",
        "\n",
        "# the more a device is shared, the more suspicious\n",
        "X_test['n_dev_shared'] = X_test.device_id.map(X_test.device_id.value_counts(dropna=False))\n",
        "\n",
        "# the more a ip is shared, the more suspicious\n",
        "X_test['n_ip_shared'] = X_test.ip_address.map(X_test.ip_address.value_counts(dropna=False))\n",
        "\n",
        "# the less visit from a country, the more suspicious\n",
        "X_test['n_country_shared'] = X_test.country.map(X_test.country.value_counts(dropna=False))\n",
        "\n",
        "X_test = X_test.drop(['device_id','ip_address','country'], axis=1)\n",
        "\n",
        "# if the levels/values/mapping keys of the column in train and test data are pretty much the same(lots of overlap), e.g. country,\n",
        "# then we should apply the above 3 X_train_mappings (generated from X_train) on X_test(like below),\n",
        "# rather than using the new mapping generated from X_test\n",
        "\n",
        "# method2: target encoding\n"
      ]
    },
    {
      "cell_type": "code",
      "execution_count": 27,
      "metadata": {
        "id": "cOTWLlZaqOP0"
      },
      "outputs": [],
      "source": [
        "scaler = preprocessing.MinMaxScaler().fit(X_train[['n_dev_shared', 'n_ip_shared', 'n_country_shared']])\n",
        "X_train[['n_dev_shared', 'n_ip_shared', 'n_country_shared']] = scaler.transform(X_train[['n_dev_shared', 'n_ip_shared', 'n_country_shared']])\n",
        "X_test[['n_dev_shared', 'n_ip_shared', 'n_country_shared']] = scaler.transform(X_test[['n_dev_shared', 'n_ip_shared', 'n_country_shared']])"
      ]
    },
    {
      "cell_type": "code",
      "execution_count": 28,
      "metadata": {
        "colab": {
          "base_uri": "https://localhost:8080/",
          "height": 139
        },
        "id": "3ZiZjqSwql4G",
        "outputId": "321ad0f8-2cb9-44a7-eff4-8f75b1dd00ca"
      },
      "outputs": [
        {
          "data": {
            "text/plain": [
              "n_dev_shared\n",
              "0.0    105427\n",
              "0.2      4774\n",
              "0.4       324\n",
              "0.6       124\n",
              "0.8        45\n",
              "1.0         6\n",
              "Name: count, dtype: int64"
            ]
          },
          "execution_count": 28,
          "metadata": {},
          "output_type": "execute_result"
        }
      ],
      "source": [
        "X_train.n_dev_shared.value_counts(dropna=False)"
      ]
    },
    {
      "cell_type": "code",
      "execution_count": 29,
      "metadata": {
        "colab": {
          "base_uri": "https://localhost:8080/",
          "height": 87
        },
        "id": "7M70uIMOqomS",
        "outputId": "bb9b659e-3434-4160-d1e0-891300c51d7c"
      },
      "outputs": [
        {
          "data": {
            "text/plain": [
              "n_dev_shared\n",
              "0.0    27330\n",
              "0.2      334\n",
              "0.4       12\n",
              "Name: count, dtype: int64"
            ]
          },
          "execution_count": 29,
          "metadata": {},
          "output_type": "execute_result"
        }
      ],
      "source": [
        "X_test.n_dev_shared.value_counts(dropna=False)"
      ]
    },
    {
      "cell_type": "markdown",
      "metadata": {
        "id": "nw8y9ynAoXHk"
      },
      "source": [
        "# Part 5: Model Training\n"
      ]
    },
    {
      "cell_type": "markdown",
      "metadata": {},
      "source": [
        "## Logistic Regression"
      ]
    },
    {
      "cell_type": "code",
      "execution_count": 30,
      "metadata": {
        "colab": {
          "base_uri": "https://localhost:8080/",
          "height": 72
        },
        "id": "OkdEYm02qrU0",
        "outputId": "5b2a923c-3bb2-46c2-f668-54b9e03c4e34"
      },
      "outputs": [],
      "source": [
        "logreg = LogisticRegression()\n",
        "logreg.fit(X_train,y_train)\n",
        "y_pred=logreg.predict(X_test)"
      ]
    },
    {
      "cell_type": "code",
      "execution_count": 31,
      "metadata": {
        "colab": {
          "base_uri": "https://localhost:8080/",
          "height": 69
        },
        "id": "mMrF7AsYqvFr",
        "outputId": "4bc2ba2d-c3dd-4c37-f58d-d71d9d42d594"
      },
      "outputs": [
        {
          "name": "stdout",
          "output_type": "stream",
          "text": [
            "        pred_0  pred_1\n",
            "true_0   27389       0\n",
            "true_1     287       0\n"
          ]
        }
      ],
      "source": [
        "cm = metrics.confusion_matrix(y_test, y_pred)\n",
        "cmDF = pd.DataFrame(cm, columns=['pred_0', 'pred_1'], index=['true_0', 'true_1'])\n",
        "print(cmDF)"
      ]
    },
    {
      "cell_type": "markdown",
      "metadata": {},
      "source": [
        "As can be seen from the confusion matrix, the model predicts all data to be negative since there exists severe data imbalance in the dataset and the model cannot learn much about the positive data pattern."
      ]
    },
    {
      "cell_type": "markdown",
      "metadata": {},
      "source": [
        "## Random Forest"
      ]
    },
    {
      "cell_type": "code",
      "execution_count": 32,
      "metadata": {
        "colab": {
          "base_uri": "https://localhost:8080/",
          "height": 228
        },
        "id": "80KetNR-qxek",
        "outputId": "2b3e1b90-3348-4a7a-9ab9-9dd7f9af1733"
      },
      "outputs": [
        {
          "name": "stdout",
          "output_type": "stream",
          "text": [
            "roc_auc_score is: : 0.7801672204169557\n",
            "f1_score is: : 0.6712962962962962\n",
            "confusion_matrix is: \n",
            "        pred_0  pred_1\n",
            "true_0   27389       0\n",
            "true_1     142     145\n",
            "recall = 0.5052264808362369\n",
            "precision = 1.0\n",
            "accuracy_score is: : 0.9948692007515537\n"
          ]
        }
      ],
      "source": [
        "classifier_RF = RandomForestClassifier(random_state=0)\n",
        "\n",
        "classifier_RF.fit(X_train, y_train)\n",
        "\n",
        "# generate class probabilities\n",
        "probs = classifier_RF.predict_proba(X_test)\n",
        "predicts = classifier_RF.predict(X_test)\n",
        "\n",
        "# predict class labels 0/1 for the test set\n",
        "print(\"%s: %r\" % (\"roc_auc_score is: \", roc_auc_score(y_test, probs[:, 1])))\n",
        "print(\"%s: %r\" % (\"f1_score is: \", f1_score(y_test, predicts)))\n",
        "\n",
        "print (\"confusion_matrix is: \")\n",
        "cm = confusion_matrix(y_test, predicts)\n",
        "cmDF = pd.DataFrame(cm, columns=['pred_0', 'pred_1'], index=['true_0', 'true_1'])\n",
        "print(cmDF)\n",
        "print('recall =',float(cm[1,1])/(cm[1,0]+cm[1,1]))\n",
        "print('precision =', float(cm[1,1])/(cm[1,1] + cm[0,1]))#1.0predicted = classifier_RF.predict(X_test)\n",
        "\n",
        "\n",
        "\n",
        "# generate evaluation metrics\n",
        "print(\"%s: %r\" % (\"accuracy_score is: \", accuracy_score(y_test, predicts)))"
      ]
    },
    {
      "cell_type": "markdown",
      "metadata": {
        "id": "0iDA5X4hrIYB"
      },
      "source": [
        "## SMOTE sampling"
      ]
    },
    {
      "cell_type": "code",
      "execution_count": 34,
      "metadata": {
        "colab": {
          "base_uri": "https://localhost:8080/",
          "height": 52
        },
        "id": "caUbRizDq9Im",
        "outputId": "f0932bc3-c729-49eb-b66d-b8a6bcf63b91"
      },
      "outputs": [
        {
          "name": "stdout",
          "output_type": "stream",
          "text": [
            "[[     0 109572]\n",
            " [     1 109572]]\n"
          ]
        }
      ],
      "source": [
        "smote = SMOTE(random_state=12)\n",
        "x_train_sm, y_train_sm = smote.fit_resample(X_train, y_train)\n",
        "\n",
        "unique, counts = np.unique(y_train_sm, return_counts=True)\n",
        "\n",
        "print(np.asarray((unique, counts)).T)"
      ]
    },
    {
      "cell_type": "code",
      "execution_count": 35,
      "metadata": {
        "colab": {
          "base_uri": "https://localhost:8080/",
          "height": 228
        },
        "id": "rbCwzZYSrNGn",
        "outputId": "9037a427-dc1f-4f17-9c95-6df59d22b191"
      },
      "outputs": [
        {
          "name": "stdout",
          "output_type": "stream",
          "text": [
            "accuracy_score_sm is: : 0.9948330683624801\n",
            "roc_auc_score_sm is: : 0.7666438992331798\n",
            "f1_score_sm is: : 0.6697459584295612\n",
            "confusion_matrix_sm is: \n",
            "        pred_0  pred_1\n",
            "true_0   27388       1\n",
            "true_1     142     145\n",
            "recall or sens_sm = 0.5052264808362369\n",
            "precision_sm = 0.9931506849315068\n"
          ]
        }
      ],
      "source": [
        "#RF on smoted training data\n",
        "classifier_RF_sm = RandomForestClassifier(random_state=0)\n",
        "\n",
        "classifier_RF_sm.fit(x_train_sm, y_train_sm)\n",
        "\n",
        "# predict class labels for the test set\n",
        "predicted_sm = classifier_RF_sm.predict(X_test)\n",
        "\n",
        "# generate class probabilities\n",
        "probs_sm = classifier_RF_sm.predict_proba(X_test)\n",
        "\n",
        "\n",
        "# generate evaluation metrics\n",
        "print(\"%s: %r\" % (\"accuracy_score_sm is: \", accuracy_score(y_test, predicted_sm)))\n",
        "print(\"%s: %r\" % (\"roc_auc_score_sm is: \", roc_auc_score(y_test, probs_sm[:, 1])))\n",
        "print(\"%s: %r\" % (\"f1_score_sm is: \", f1_score(y_test, predicted_sm )))#string to int\n",
        "\n",
        "print (\"confusion_matrix_sm is: \")\n",
        "cm_sm = confusion_matrix(y_test, predicted_sm)\n",
        "cmDF = pd.DataFrame(cm_sm, columns=['pred_0', 'pred_1'], index=['true_0', 'true_1'])\n",
        "print(cmDF)\n",
        "print('recall or sens_sm =',float(cm_sm[1,1])/(cm_sm[1,0]+cm_sm[1,1]))\n",
        "print('precision_sm =', float(cm_sm[1,1])/(cm_sm[1,1] + cm_sm[0,1]))\n",
        "\n"
      ]
    },
    {
      "cell_type": "markdown",
      "metadata": {},
      "source": [
        "There's no significant improvement after SMOTE resampling."
      ]
    },
    {
      "cell_type": "markdown",
      "metadata": {},
      "source": [
        "## XGBoost"
      ]
    },
    {
      "cell_type": "code",
      "execution_count": 57,
      "metadata": {},
      "outputs": [],
      "source": [
        "xg_classifier = xgb.XGBClassifier(objective ='binary:logistic', colsample_bytree = 0.3, learning_rate = 0.1,\n",
        "                max_depth = 6, alpha = 10, n_estimators = 10)"
      ]
    },
    {
      "cell_type": "code",
      "execution_count": 58,
      "metadata": {},
      "outputs": [],
      "source": [
        "xg_classifier = xg_classifier.fit(X_train, y_train)"
      ]
    },
    {
      "cell_type": "code",
      "execution_count": 59,
      "metadata": {},
      "outputs": [],
      "source": [
        "probs_x = xg_classifier.predict_proba(X_test)\n",
        "predicts_x = xg_classifier.predict(X_test)"
      ]
    },
    {
      "cell_type": "code",
      "execution_count": 60,
      "metadata": {},
      "outputs": [
        {
          "name": "stdout",
          "output_type": "stream",
          "text": [
            "roc_auc_score is: : 0.7801672204169557\n",
            "f1_score is: : 0.6712962962962962\n",
            "confusion_matrix is: \n",
            "        pred_0  pred_1\n",
            "true_0   27389       0\n",
            "true_1     142     145\n",
            "recall = 0.5052264808362369\n",
            "precision = 1.0\n",
            "accuracy_score is: : 0.9948692007515537\n"
          ]
        }
      ],
      "source": [
        "# predict class labels 0/1 for the test set\n",
        "print(\"%s: %r\" % (\"roc_auc_score is: \", roc_auc_score(y_test, probs[:, 1])))\n",
        "print(\"%s: %r\" % (\"f1_score is: \", f1_score(y_test, predicts)))\n",
        "\n",
        "print (\"confusion_matrix is: \")\n",
        "cm = confusion_matrix(y_test, predicts)\n",
        "cmDF = pd.DataFrame(cm, columns=['pred_0', 'pred_1'], index=['true_0', 'true_1'])\n",
        "print(cmDF)\n",
        "print('recall =',float(cm[1,1])/(cm[1,0]+cm[1,1]))\n",
        "print('precision =', float(cm[1,1])/(cm[1,1] + cm[0,1]))#1.0predicted = classifier_RF.predict(X_test)\n",
        "\n",
        "\n",
        "\n",
        "# generate evaluation metrics\n",
        "print(\"%s: %r\" % (\"accuracy_score is: \", accuracy_score(y_test, predicts)))"
      ]
    },
    {
      "cell_type": "markdown",
      "metadata": {
        "id": "ldszZ1T-rhOx"
      },
      "source": [
        "# Part 6: Parameter tuning by GridSearchCV"
      ]
    },
    {
      "cell_type": "code",
      "execution_count": 36,
      "metadata": {
        "id": "sFfAZlQDrQAb"
      },
      "outputs": [],
      "source": [
        "scorers = {\n",
        "    'precision_score': make_scorer(precision_score),\n",
        "    'recall_score': make_scorer(recall_score),\n",
        "    'f1_score': make_scorer(f1_score, pos_label=1)\n",
        "\n",
        "}"
      ]
    },
    {
      "cell_type": "code",
      "execution_count": 40,
      "metadata": {
        "id": "RdgTcDHirmpK"
      },
      "outputs": [],
      "source": [
        "def grid_search_wrapper(model, parameters, refit_score='f1_score'):\n",
        "    \"\"\"\n",
        "    fits a GridSearchCV classifier using refit_score for optimization(refit on the best model according to refit_score)\n",
        "    prints classifier performance metrics\n",
        "    \"\"\"\n",
        "\n",
        "    grid_search = GridSearchCV(model, parameters, scoring=scorers, refit=refit_score,\n",
        "                           cv=3, return_train_score=True)\n",
        "    grid_search.fit(X_train, y_train)\n",
        "\n",
        "    # make the predictions\n",
        "    y_pred = grid_search.predict(X_test)\n",
        "    y_prob = grid_search.predict_proba(X_test)[:, 1]\n",
        "\n",
        "    print('Best params for {}'.format(refit_score))\n",
        "    print(grid_search.best_params_)\n",
        "\n",
        "    # confusion matrix on the test data.\n",
        "    print('\\nConfusion matrix of Random Forest optimized for {} on the test data:'.format(refit_score))\n",
        "    cm = confusion_matrix(y_test, y_pred)\n",
        "    cmDF = pd.DataFrame(cm, columns=['pred_0', 'pred_1'], index=['true_0', 'true_1'])\n",
        "    print(cmDF)\n",
        "\n",
        "    print(\"\\t%s: %r\" % (\"roc_auc_score is: \", roc_auc_score(y_test, y_prob)))\n",
        "    print(\"\\t%s: %r\" % (\"f1_score is: \", f1_score(y_test, y_pred)))#string to int\n",
        "\n",
        "    print('recall = ', float(cm[1,1]) / (cm[1,0] + cm[1,1]))\n",
        "    print('precision = ', float(cm[1,1]) / (cm[1, 1] + cm[0,1]))\n",
        "\n",
        "    return grid_search\n",
        "\n"
      ]
    },
    {
      "cell_type": "markdown",
      "metadata": {
        "id": "hsRYsbmWrxRX"
      },
      "source": [
        "## Optimizing on f1_score on LR"
      ]
    },
    {
      "cell_type": "code",
      "execution_count": 41,
      "metadata": {
        "colab": {
          "base_uri": "https://localhost:8080/",
          "height": 263
        },
        "id": "auoYm_uXrpK8",
        "outputId": "5c37e060-f19b-4560-a71b-cf182a333a4e"
      },
      "outputs": [
        {
          "name": "stdout",
          "output_type": "stream",
          "text": [
            "Best params for f1_score\n",
            "{'C': 0.01, 'penalty': 'l2'}\n",
            "\n",
            "Confusion matrix of Random Forest optimized for f1_score on the test data:\n",
            "        pred_0  pred_1\n",
            "true_0   27389       0\n",
            "true_1     287       0\n",
            "\troc_auc_score is: : 0.7505925405847842\n",
            "\tf1_score is: : 0.0\n",
            "recall =  0.0\n",
            "precision =  nan\n"
          ]
        }
      ],
      "source": [
        "# C: inverse of regularization strength, smaller values specify stronger regularization\n",
        "LRGrid = {\"C\" : np.logspace(-2,2,5), \"penalty\":[\"l1\",\"l2\"]}# l1 lasso l2 ridge\n",
        "#param_grid = {'C': [0.01, 0.1, 1, 10, 100], 'penalty': ['l1', 'l2']}\n",
        "logRegModel = LogisticRegression(random_state=0)\n",
        "\n",
        "grid_search_LR_f1 = grid_search_wrapper(logRegModel, LRGrid, refit_score='f1_score')"
      ]
    },
    {
      "cell_type": "markdown",
      "metadata": {},
      "source": [
        "The LR has no better performance after hyperparameter tuning, "
      ]
    },
    {
      "cell_type": "markdown",
      "metadata": {
        "id": "8nXA4BYJr238"
      },
      "source": [
        "## Optimizing on f1_score on RF"
      ]
    },
    {
      "cell_type": "code",
      "execution_count": 42,
      "metadata": {
        "id": "WYdxvC56r0i4"
      },
      "outputs": [],
      "source": [
        "parameters = {\n",
        "'max_depth': [None, 5, 15],\n",
        "'n_estimators' :  [10,150],\n",
        "'class_weight' : [{0: 1, 1: w} for w in [0.2, 1, 100]]\n",
        "}\n",
        "\n",
        "clf = RandomForestClassifier(random_state=0)"
      ]
    },
    {
      "cell_type": "code",
      "execution_count": 43,
      "metadata": {
        "colab": {
          "base_uri": "https://localhost:8080/",
          "height": 208
        },
        "id": "Ts64O7eWr5g2",
        "outputId": "e6372b42-de3c-45ad-c1af-bf2810ef82e7"
      },
      "outputs": [
        {
          "name": "stdout",
          "output_type": "stream",
          "text": [
            "Best params for f1_score\n",
            "{'class_weight': {0: 1, 1: 0.2}, 'max_depth': None, 'n_estimators': 150}\n",
            "\n",
            "Confusion matrix of Random Forest optimized for f1_score on the test data:\n",
            "        pred_0  pred_1\n",
            "true_0   27389       0\n",
            "true_1     142     145\n",
            "\troc_auc_score is: : 0.7781993788548851\n",
            "\tf1_score is: : 0.6712962962962962\n",
            "recall =  0.5052264808362369\n",
            "precision =  1.0\n"
          ]
        }
      ],
      "source": [
        "grid_search_rf_f1 = grid_search_wrapper(clf, parameters, refit_score='f1_score')"
      ]
    },
    {
      "cell_type": "markdown",
      "metadata": {},
      "source": [
        "Random Forest has similar performance as the one before hyperparameter tuning."
      ]
    },
    {
      "cell_type": "code",
      "execution_count": 44,
      "metadata": {
        "colab": {
          "base_uri": "https://localhost:8080/",
          "height": 139
        },
        "id": "xjYCYlbmr8BV",
        "outputId": "6edb449a-d866-4e2a-9d0d-039f2c134e60"
      },
      "outputs": [
        {
          "data": {
            "text/html": [
              "<style>#sk-container-id-1 {color: black;}#sk-container-id-1 pre{padding: 0;}#sk-container-id-1 div.sk-toggleable {background-color: white;}#sk-container-id-1 label.sk-toggleable__label {cursor: pointer;display: block;width: 100%;margin-bottom: 0;padding: 0.3em;box-sizing: border-box;text-align: center;}#sk-container-id-1 label.sk-toggleable__label-arrow:before {content: \"▸\";float: left;margin-right: 0.25em;color: #696969;}#sk-container-id-1 label.sk-toggleable__label-arrow:hover:before {color: black;}#sk-container-id-1 div.sk-estimator:hover label.sk-toggleable__label-arrow:before {color: black;}#sk-container-id-1 div.sk-toggleable__content {max-height: 0;max-width: 0;overflow: hidden;text-align: left;background-color: #f0f8ff;}#sk-container-id-1 div.sk-toggleable__content pre {margin: 0.2em;color: black;border-radius: 0.25em;background-color: #f0f8ff;}#sk-container-id-1 input.sk-toggleable__control:checked~div.sk-toggleable__content {max-height: 200px;max-width: 100%;overflow: auto;}#sk-container-id-1 input.sk-toggleable__control:checked~label.sk-toggleable__label-arrow:before {content: \"▾\";}#sk-container-id-1 div.sk-estimator input.sk-toggleable__control:checked~label.sk-toggleable__label {background-color: #d4ebff;}#sk-container-id-1 div.sk-label input.sk-toggleable__control:checked~label.sk-toggleable__label {background-color: #d4ebff;}#sk-container-id-1 input.sk-hidden--visually {border: 0;clip: rect(1px 1px 1px 1px);clip: rect(1px, 1px, 1px, 1px);height: 1px;margin: -1px;overflow: hidden;padding: 0;position: absolute;width: 1px;}#sk-container-id-1 div.sk-estimator {font-family: monospace;background-color: #f0f8ff;border: 1px dotted black;border-radius: 0.25em;box-sizing: border-box;margin-bottom: 0.5em;}#sk-container-id-1 div.sk-estimator:hover {background-color: #d4ebff;}#sk-container-id-1 div.sk-parallel-item::after {content: \"\";width: 100%;border-bottom: 1px solid gray;flex-grow: 1;}#sk-container-id-1 div.sk-label:hover label.sk-toggleable__label {background-color: #d4ebff;}#sk-container-id-1 div.sk-serial::before {content: \"\";position: absolute;border-left: 1px solid gray;box-sizing: border-box;top: 0;bottom: 0;left: 50%;z-index: 0;}#sk-container-id-1 div.sk-serial {display: flex;flex-direction: column;align-items: center;background-color: white;padding-right: 0.2em;padding-left: 0.2em;position: relative;}#sk-container-id-1 div.sk-item {position: relative;z-index: 1;}#sk-container-id-1 div.sk-parallel {display: flex;align-items: stretch;justify-content: center;background-color: white;position: relative;}#sk-container-id-1 div.sk-item::before, #sk-container-id-1 div.sk-parallel-item::before {content: \"\";position: absolute;border-left: 1px solid gray;box-sizing: border-box;top: 0;bottom: 0;left: 50%;z-index: -1;}#sk-container-id-1 div.sk-parallel-item {display: flex;flex-direction: column;z-index: 1;position: relative;background-color: white;}#sk-container-id-1 div.sk-parallel-item:first-child::after {align-self: flex-end;width: 50%;}#sk-container-id-1 div.sk-parallel-item:last-child::after {align-self: flex-start;width: 50%;}#sk-container-id-1 div.sk-parallel-item:only-child::after {width: 0;}#sk-container-id-1 div.sk-dashed-wrapped {border: 1px dashed gray;margin: 0 0.4em 0.5em 0.4em;box-sizing: border-box;padding-bottom: 0.4em;background-color: white;}#sk-container-id-1 div.sk-label label {font-family: monospace;font-weight: bold;display: inline-block;line-height: 1.2em;}#sk-container-id-1 div.sk-label-container {text-align: center;}#sk-container-id-1 div.sk-container {/* jupyter's `normalize.less` sets `[hidden] { display: none; }` but bootstrap.min.css set `[hidden] { display: none !important; }` so we also need the `!important` here to be able to override the default hidden behavior on the sphinx rendered scikit-learn.org. See: https://github.com/scikit-learn/scikit-learn/issues/21755 */display: inline-block !important;position: relative;}#sk-container-id-1 div.sk-text-repr-fallback {display: none;}</style><div id=\"sk-container-id-1\" class=\"sk-top-container\"><div class=\"sk-text-repr-fallback\"><pre>RandomForestClassifier(class_weight={0: 1, 1: 0.2}, n_estimators=150,\n",
              "                       random_state=0)</pre><b>In a Jupyter environment, please rerun this cell to show the HTML representation or trust the notebook. <br />On GitHub, the HTML representation is unable to render, please try loading this page with nbviewer.org.</b></div><div class=\"sk-container\" hidden><div class=\"sk-item\"><div class=\"sk-estimator sk-toggleable\"><input class=\"sk-toggleable__control sk-hidden--visually\" id=\"sk-estimator-id-1\" type=\"checkbox\" checked><label for=\"sk-estimator-id-1\" class=\"sk-toggleable__label sk-toggleable__label-arrow\">RandomForestClassifier</label><div class=\"sk-toggleable__content\"><pre>RandomForestClassifier(class_weight={0: 1, 1: 0.2}, n_estimators=150,\n",
              "                       random_state=0)</pre></div></div></div></div></div>"
            ],
            "text/plain": [
              "RandomForestClassifier(class_weight={0: 1, 1: 0.2}, n_estimators=150,\n",
              "                       random_state=0)"
            ]
          },
          "execution_count": 44,
          "metadata": {},
          "output_type": "execute_result"
        }
      ],
      "source": [
        "best_rf_model_f1 = grid_search_rf_f1.best_estimator_\n",
        "best_rf_model_f1"
      ]
    },
    {
      "cell_type": "code",
      "execution_count": 45,
      "metadata": {
        "colab": {
          "base_uri": "https://localhost:8080/",
          "height": 222
        },
        "id": "K6NOTqRHr-oA",
        "outputId": "8442c5bd-18ff-4306-c342-fa0f118cde59"
      },
      "outputs": [
        {
          "data": {
            "text/html": [
              "<div>\n",
              "<style scoped>\n",
              "    .dataframe tbody tr th:only-of-type {\n",
              "        vertical-align: middle;\n",
              "    }\n",
              "\n",
              "    .dataframe tbody tr th {\n",
              "        vertical-align: top;\n",
              "    }\n",
              "\n",
              "    .dataframe thead th {\n",
              "        text-align: right;\n",
              "    }\n",
              "</style>\n",
              "<table border=\"1\" class=\"dataframe\">\n",
              "  <thead>\n",
              "    <tr style=\"text-align: right;\">\n",
              "      <th></th>\n",
              "      <th>mean_test_precision_score</th>\n",
              "      <th>mean_test_recall_score</th>\n",
              "      <th>mean_test_f1_score</th>\n",
              "      <th>mean_train_precision_score</th>\n",
              "      <th>mean_train_recall_score</th>\n",
              "      <th>mean_train_f1_score</th>\n",
              "      <th>param_max_depth</th>\n",
              "      <th>param_class_weight</th>\n",
              "      <th>param_n_estimators</th>\n",
              "    </tr>\n",
              "  </thead>\n",
              "  <tbody>\n",
              "    <tr>\n",
              "      <th>9</th>\n",
              "      <td>1.0</td>\n",
              "      <td>0.527</td>\n",
              "      <td>0.69</td>\n",
              "      <td>1.0</td>\n",
              "      <td>0.527</td>\n",
              "      <td>0.690</td>\n",
              "      <td>5</td>\n",
              "      <td>{0: 1, 1: 1}</td>\n",
              "      <td>150</td>\n",
              "    </tr>\n",
              "    <tr>\n",
              "      <th>1</th>\n",
              "      <td>1.0</td>\n",
              "      <td>0.527</td>\n",
              "      <td>0.69</td>\n",
              "      <td>1.0</td>\n",
              "      <td>1.000</td>\n",
              "      <td>1.000</td>\n",
              "      <td>None</td>\n",
              "      <td>{0: 1, 1: 0.2}</td>\n",
              "      <td>150</td>\n",
              "    </tr>\n",
              "    <tr>\n",
              "      <th>13</th>\n",
              "      <td>1.0</td>\n",
              "      <td>0.527</td>\n",
              "      <td>0.69</td>\n",
              "      <td>1.0</td>\n",
              "      <td>1.000</td>\n",
              "      <td>1.000</td>\n",
              "      <td>None</td>\n",
              "      <td>{0: 1, 1: 100}</td>\n",
              "      <td>150</td>\n",
              "    </tr>\n",
              "    <tr>\n",
              "      <th>3</th>\n",
              "      <td>1.0</td>\n",
              "      <td>0.527</td>\n",
              "      <td>0.69</td>\n",
              "      <td>1.0</td>\n",
              "      <td>0.527</td>\n",
              "      <td>0.690</td>\n",
              "      <td>5</td>\n",
              "      <td>{0: 1, 1: 0.2}</td>\n",
              "      <td>150</td>\n",
              "    </tr>\n",
              "    <tr>\n",
              "      <th>5</th>\n",
              "      <td>1.0</td>\n",
              "      <td>0.527</td>\n",
              "      <td>0.69</td>\n",
              "      <td>1.0</td>\n",
              "      <td>0.560</td>\n",
              "      <td>0.718</td>\n",
              "      <td>15</td>\n",
              "      <td>{0: 1, 1: 0.2}</td>\n",
              "      <td>150</td>\n",
              "    </tr>\n",
              "  </tbody>\n",
              "</table>\n",
              "</div>"
            ],
            "text/plain": [
              "    mean_test_precision_score  mean_test_recall_score  mean_test_f1_score  \\\n",
              "9                         1.0                   0.527                0.69   \n",
              "1                         1.0                   0.527                0.69   \n",
              "13                        1.0                   0.527                0.69   \n",
              "3                         1.0                   0.527                0.69   \n",
              "5                         1.0                   0.527                0.69   \n",
              "\n",
              "    mean_train_precision_score  mean_train_recall_score  mean_train_f1_score  \\\n",
              "9                          1.0                    0.527                0.690   \n",
              "1                          1.0                    1.000                1.000   \n",
              "13                         1.0                    1.000                1.000   \n",
              "3                          1.0                    0.527                0.690   \n",
              "5                          1.0                    0.560                0.718   \n",
              "\n",
              "   param_max_depth param_class_weight param_n_estimators  \n",
              "9                5       {0: 1, 1: 1}                150  \n",
              "1             None     {0: 1, 1: 0.2}                150  \n",
              "13            None     {0: 1, 1: 100}                150  \n",
              "3                5     {0: 1, 1: 0.2}                150  \n",
              "5               15     {0: 1, 1: 0.2}                150  "
            ]
          },
          "execution_count": 45,
          "metadata": {},
          "output_type": "execute_result"
        }
      ],
      "source": [
        "results_f1 = pd.DataFrame(grid_search_rf_f1.cv_results_)\n",
        "results_sortf1 = results_f1.sort_values(by='mean_test_f1_score', ascending=False)\n",
        "results_sortf1[['mean_test_precision_score', 'mean_test_recall_score', 'mean_test_f1_score', 'mean_train_precision_score', 'mean_train_recall_score', 'mean_train_f1_score','param_max_depth', 'param_class_weight', 'param_n_estimators']].round(3).head()\n",
        "\n",
        "\n"
      ]
    },
    {
      "cell_type": "code",
      "execution_count": 47,
      "metadata": {
        "colab": {
          "base_uri": "https://localhost:8080/",
          "height": 631
        },
        "id": "ccCAMjbrsBK1",
        "outputId": "258ba86e-f002-40fc-e343-185bd762a86b"
      },
      "outputs": [
        {
          "data": {
            "text/html": [
              "<div>\n",
              "<style scoped>\n",
              "    .dataframe tbody tr th:only-of-type {\n",
              "        vertical-align: middle;\n",
              "    }\n",
              "\n",
              "    .dataframe tbody tr th {\n",
              "        vertical-align: top;\n",
              "    }\n",
              "\n",
              "    .dataframe thead th {\n",
              "        text-align: right;\n",
              "    }\n",
              "</style>\n",
              "<table border=\"1\" class=\"dataframe\">\n",
              "  <thead>\n",
              "    <tr style=\"text-align: right;\">\n",
              "      <th></th>\n",
              "      <th>importance</th>\n",
              "    </tr>\n",
              "  </thead>\n",
              "  <tbody>\n",
              "    <tr>\n",
              "      <th>interval_after_signup</th>\n",
              "      <td>0.408875</td>\n",
              "    </tr>\n",
              "    <tr>\n",
              "      <th>purchase_days_of_year</th>\n",
              "      <td>0.132442</td>\n",
              "    </tr>\n",
              "    <tr>\n",
              "      <th>purchase_seconds_of_day</th>\n",
              "      <td>0.079075</td>\n",
              "    </tr>\n",
              "    <tr>\n",
              "      <th>signup_seconds_of_day</th>\n",
              "      <td>0.077661</td>\n",
              "    </tr>\n",
              "    <tr>\n",
              "      <th>signup_days_of_year</th>\n",
              "      <td>0.057319</td>\n",
              "    </tr>\n",
              "    <tr>\n",
              "      <th>n_ip_shared</th>\n",
              "      <td>0.052617</td>\n",
              "    </tr>\n",
              "    <tr>\n",
              "      <th>purchase_value</th>\n",
              "      <td>0.044106</td>\n",
              "    </tr>\n",
              "    <tr>\n",
              "      <th>age</th>\n",
              "      <td>0.038233</td>\n",
              "    </tr>\n",
              "    <tr>\n",
              "      <th>n_dev_shared</th>\n",
              "      <td>0.035686</td>\n",
              "    </tr>\n",
              "    <tr>\n",
              "      <th>n_country_shared</th>\n",
              "      <td>0.027432</td>\n",
              "    </tr>\n",
              "    <tr>\n",
              "      <th>sex</th>\n",
              "      <td>0.008170</td>\n",
              "    </tr>\n",
              "    <tr>\n",
              "      <th>source_Ads</th>\n",
              "      <td>0.006122</td>\n",
              "    </tr>\n",
              "    <tr>\n",
              "      <th>browser_Chrome</th>\n",
              "      <td>0.006042</td>\n",
              "    </tr>\n",
              "    <tr>\n",
              "      <th>source_SEO</th>\n",
              "      <td>0.005925</td>\n",
              "    </tr>\n",
              "    <tr>\n",
              "      <th>browser_Safari</th>\n",
              "      <td>0.004952</td>\n",
              "    </tr>\n",
              "    <tr>\n",
              "      <th>source_Direct</th>\n",
              "      <td>0.004812</td>\n",
              "    </tr>\n",
              "    <tr>\n",
              "      <th>browser_FireFox</th>\n",
              "      <td>0.004662</td>\n",
              "    </tr>\n",
              "    <tr>\n",
              "      <th>browser_IE</th>\n",
              "      <td>0.004603</td>\n",
              "    </tr>\n",
              "    <tr>\n",
              "      <th>browser_Opera</th>\n",
              "      <td>0.001265</td>\n",
              "    </tr>\n",
              "  </tbody>\n",
              "</table>\n",
              "</div>"
            ],
            "text/plain": [
              "                         importance\n",
              "interval_after_signup      0.408875\n",
              "purchase_days_of_year      0.132442\n",
              "purchase_seconds_of_day    0.079075\n",
              "signup_seconds_of_day      0.077661\n",
              "signup_days_of_year        0.057319\n",
              "n_ip_shared                0.052617\n",
              "purchase_value             0.044106\n",
              "age                        0.038233\n",
              "n_dev_shared               0.035686\n",
              "n_country_shared           0.027432\n",
              "sex                        0.008170\n",
              "source_Ads                 0.006122\n",
              "browser_Chrome             0.006042\n",
              "source_SEO                 0.005925\n",
              "browser_Safari             0.004952\n",
              "source_Direct              0.004812\n",
              "browser_FireFox            0.004662\n",
              "browser_IE                 0.004603\n",
              "browser_Opera              0.001265"
            ]
          },
          "execution_count": 47,
          "metadata": {},
          "output_type": "execute_result"
        }
      ],
      "source": [
        "pd.DataFrame(best_rf_model_f1.feature_importances_, index = X_train.columns, columns=['importance']).sort_values('importance', ascending=False)"
      ]
    },
    {
      "cell_type": "markdown",
      "metadata": {},
      "source": [
        "As can be seen from the table, `interval_after_signup` and other time related raw and aggregates are highly predictive of fraud"
      ]
    },
    {
      "cell_type": "markdown",
      "metadata": {
        "id": "VMBjORQlsGGZ"
      },
      "source": [
        "## Optimizing recall_score on RF"
      ]
    },
    {
      "cell_type": "code",
      "execution_count": 48,
      "metadata": {
        "colab": {
          "base_uri": "https://localhost:8080/",
          "height": 208
        },
        "id": "9A7_0wtfsD8d",
        "outputId": "fff53ef9-5733-4738-8671-5326f1a931ce"
      },
      "outputs": [
        {
          "name": "stdout",
          "output_type": "stream",
          "text": [
            "Best params for recall_score\n",
            "{'class_weight': {0: 1, 1: 100}, 'max_depth': 5, 'n_estimators': 150}\n",
            "\n",
            "Confusion matrix of Random Forest optimized for recall_score on the test data:\n",
            "        pred_0  pred_1\n",
            "true_0   27146     243\n",
            "true_1     132     155\n",
            "\troc_auc_score is: : 0.7904661234456265\n",
            "\tf1_score is: : 0.4525547445255475\n",
            "recall =  0.5400696864111498\n",
            "precision =  0.38944723618090454\n"
          ]
        }
      ],
      "source": [
        "grid_search_rf_recall = grid_search_wrapper(clf, parameters, refit_score='recall_score')"
      ]
    },
    {
      "cell_type": "markdown",
      "metadata": {},
      "source": [
        "Recall score is improved but precision is decreased."
      ]
    },
    {
      "cell_type": "code",
      "execution_count": 49,
      "metadata": {
        "colab": {
          "base_uri": "https://localhost:8080/"
        },
        "id": "IzvlVI_VsIpb",
        "outputId": "fe57672e-1de3-4988-b4d1-5af1199471ea"
      },
      "outputs": [
        {
          "data": {
            "text/html": [
              "<style>#sk-container-id-2 {color: black;}#sk-container-id-2 pre{padding: 0;}#sk-container-id-2 div.sk-toggleable {background-color: white;}#sk-container-id-2 label.sk-toggleable__label {cursor: pointer;display: block;width: 100%;margin-bottom: 0;padding: 0.3em;box-sizing: border-box;text-align: center;}#sk-container-id-2 label.sk-toggleable__label-arrow:before {content: \"▸\";float: left;margin-right: 0.25em;color: #696969;}#sk-container-id-2 label.sk-toggleable__label-arrow:hover:before {color: black;}#sk-container-id-2 div.sk-estimator:hover label.sk-toggleable__label-arrow:before {color: black;}#sk-container-id-2 div.sk-toggleable__content {max-height: 0;max-width: 0;overflow: hidden;text-align: left;background-color: #f0f8ff;}#sk-container-id-2 div.sk-toggleable__content pre {margin: 0.2em;color: black;border-radius: 0.25em;background-color: #f0f8ff;}#sk-container-id-2 input.sk-toggleable__control:checked~div.sk-toggleable__content {max-height: 200px;max-width: 100%;overflow: auto;}#sk-container-id-2 input.sk-toggleable__control:checked~label.sk-toggleable__label-arrow:before {content: \"▾\";}#sk-container-id-2 div.sk-estimator input.sk-toggleable__control:checked~label.sk-toggleable__label {background-color: #d4ebff;}#sk-container-id-2 div.sk-label input.sk-toggleable__control:checked~label.sk-toggleable__label {background-color: #d4ebff;}#sk-container-id-2 input.sk-hidden--visually {border: 0;clip: rect(1px 1px 1px 1px);clip: rect(1px, 1px, 1px, 1px);height: 1px;margin: -1px;overflow: hidden;padding: 0;position: absolute;width: 1px;}#sk-container-id-2 div.sk-estimator {font-family: monospace;background-color: #f0f8ff;border: 1px dotted black;border-radius: 0.25em;box-sizing: border-box;margin-bottom: 0.5em;}#sk-container-id-2 div.sk-estimator:hover {background-color: #d4ebff;}#sk-container-id-2 div.sk-parallel-item::after {content: \"\";width: 100%;border-bottom: 1px solid gray;flex-grow: 1;}#sk-container-id-2 div.sk-label:hover label.sk-toggleable__label {background-color: #d4ebff;}#sk-container-id-2 div.sk-serial::before {content: \"\";position: absolute;border-left: 1px solid gray;box-sizing: border-box;top: 0;bottom: 0;left: 50%;z-index: 0;}#sk-container-id-2 div.sk-serial {display: flex;flex-direction: column;align-items: center;background-color: white;padding-right: 0.2em;padding-left: 0.2em;position: relative;}#sk-container-id-2 div.sk-item {position: relative;z-index: 1;}#sk-container-id-2 div.sk-parallel {display: flex;align-items: stretch;justify-content: center;background-color: white;position: relative;}#sk-container-id-2 div.sk-item::before, #sk-container-id-2 div.sk-parallel-item::before {content: \"\";position: absolute;border-left: 1px solid gray;box-sizing: border-box;top: 0;bottom: 0;left: 50%;z-index: -1;}#sk-container-id-2 div.sk-parallel-item {display: flex;flex-direction: column;z-index: 1;position: relative;background-color: white;}#sk-container-id-2 div.sk-parallel-item:first-child::after {align-self: flex-end;width: 50%;}#sk-container-id-2 div.sk-parallel-item:last-child::after {align-self: flex-start;width: 50%;}#sk-container-id-2 div.sk-parallel-item:only-child::after {width: 0;}#sk-container-id-2 div.sk-dashed-wrapped {border: 1px dashed gray;margin: 0 0.4em 0.5em 0.4em;box-sizing: border-box;padding-bottom: 0.4em;background-color: white;}#sk-container-id-2 div.sk-label label {font-family: monospace;font-weight: bold;display: inline-block;line-height: 1.2em;}#sk-container-id-2 div.sk-label-container {text-align: center;}#sk-container-id-2 div.sk-container {/* jupyter's `normalize.less` sets `[hidden] { display: none; }` but bootstrap.min.css set `[hidden] { display: none !important; }` so we also need the `!important` here to be able to override the default hidden behavior on the sphinx rendered scikit-learn.org. See: https://github.com/scikit-learn/scikit-learn/issues/21755 */display: inline-block !important;position: relative;}#sk-container-id-2 div.sk-text-repr-fallback {display: none;}</style><div id=\"sk-container-id-2\" class=\"sk-top-container\"><div class=\"sk-text-repr-fallback\"><pre>RandomForestClassifier(class_weight={0: 1, 1: 100}, max_depth=5,\n",
              "                       n_estimators=150, random_state=0)</pre><b>In a Jupyter environment, please rerun this cell to show the HTML representation or trust the notebook. <br />On GitHub, the HTML representation is unable to render, please try loading this page with nbviewer.org.</b></div><div class=\"sk-container\" hidden><div class=\"sk-item\"><div class=\"sk-estimator sk-toggleable\"><input class=\"sk-toggleable__control sk-hidden--visually\" id=\"sk-estimator-id-2\" type=\"checkbox\" checked><label for=\"sk-estimator-id-2\" class=\"sk-toggleable__label sk-toggleable__label-arrow\">RandomForestClassifier</label><div class=\"sk-toggleable__content\"><pre>RandomForestClassifier(class_weight={0: 1, 1: 100}, max_depth=5,\n",
              "                       n_estimators=150, random_state=0)</pre></div></div></div></div></div>"
            ],
            "text/plain": [
              "RandomForestClassifier(class_weight={0: 1, 1: 100}, max_depth=5,\n",
              "                       n_estimators=150, random_state=0)"
            ]
          },
          "execution_count": 49,
          "metadata": {},
          "output_type": "execute_result"
        }
      ],
      "source": [
        "best_RF_model_recall = grid_search_rf_recall.best_estimator_\n",
        "best_RF_model_recall"
      ]
    },
    {
      "cell_type": "code",
      "execution_count": 50,
      "metadata": {
        "colab": {
          "base_uri": "https://localhost:8080/",
          "height": 222
        },
        "id": "Y7ncW6mZsKx_",
        "outputId": "972cfc26-c4df-4afd-fcee-14117ef7ae0b"
      },
      "outputs": [
        {
          "data": {
            "text/html": [
              "<div>\n",
              "<style scoped>\n",
              "    .dataframe tbody tr th:only-of-type {\n",
              "        vertical-align: middle;\n",
              "    }\n",
              "\n",
              "    .dataframe tbody tr th {\n",
              "        vertical-align: top;\n",
              "    }\n",
              "\n",
              "    .dataframe thead th {\n",
              "        text-align: right;\n",
              "    }\n",
              "</style>\n",
              "<table border=\"1\" class=\"dataframe\">\n",
              "  <thead>\n",
              "    <tr style=\"text-align: right;\">\n",
              "      <th></th>\n",
              "      <th>mean_test_precision_score</th>\n",
              "      <th>mean_test_recall_score</th>\n",
              "      <th>mean_test_f1_score</th>\n",
              "      <th>mean_train_precision_score</th>\n",
              "      <th>mean_train_recall_score</th>\n",
              "      <th>mean_train_f1_score</th>\n",
              "      <th>param_max_depth</th>\n",
              "      <th>param_class_weight</th>\n",
              "      <th>param_n_estimators</th>\n",
              "    </tr>\n",
              "  </thead>\n",
              "  <tbody>\n",
              "    <tr>\n",
              "      <th>15</th>\n",
              "      <td>0.159</td>\n",
              "      <td>0.636</td>\n",
              "      <td>0.254</td>\n",
              "      <td>0.164</td>\n",
              "      <td>0.656</td>\n",
              "      <td>0.262</td>\n",
              "      <td>5</td>\n",
              "      <td>{0: 1, 1: 100}</td>\n",
              "      <td>150</td>\n",
              "    </tr>\n",
              "    <tr>\n",
              "      <th>14</th>\n",
              "      <td>0.160</td>\n",
              "      <td>0.633</td>\n",
              "      <td>0.255</td>\n",
              "      <td>0.162</td>\n",
              "      <td>0.652</td>\n",
              "      <td>0.260</td>\n",
              "      <td>5</td>\n",
              "      <td>{0: 1, 1: 100}</td>\n",
              "      <td>10</td>\n",
              "    </tr>\n",
              "    <tr>\n",
              "      <th>16</th>\n",
              "      <td>0.675</td>\n",
              "      <td>0.533</td>\n",
              "      <td>0.593</td>\n",
              "      <td>0.759</td>\n",
              "      <td>0.813</td>\n",
              "      <td>0.782</td>\n",
              "      <td>15</td>\n",
              "      <td>{0: 1, 1: 100}</td>\n",
              "      <td>10</td>\n",
              "    </tr>\n",
              "    <tr>\n",
              "      <th>0</th>\n",
              "      <td>0.995</td>\n",
              "      <td>0.527</td>\n",
              "      <td>0.689</td>\n",
              "      <td>1.000</td>\n",
              "      <td>0.856</td>\n",
              "      <td>0.923</td>\n",
              "      <td>None</td>\n",
              "      <td>{0: 1, 1: 0.2}</td>\n",
              "      <td>10</td>\n",
              "    </tr>\n",
              "    <tr>\n",
              "      <th>1</th>\n",
              "      <td>1.000</td>\n",
              "      <td>0.527</td>\n",
              "      <td>0.690</td>\n",
              "      <td>1.000</td>\n",
              "      <td>1.000</td>\n",
              "      <td>1.000</td>\n",
              "      <td>None</td>\n",
              "      <td>{0: 1, 1: 0.2}</td>\n",
              "      <td>150</td>\n",
              "    </tr>\n",
              "  </tbody>\n",
              "</table>\n",
              "</div>"
            ],
            "text/plain": [
              "    mean_test_precision_score  mean_test_recall_score  mean_test_f1_score  \\\n",
              "15                      0.159                   0.636               0.254   \n",
              "14                      0.160                   0.633               0.255   \n",
              "16                      0.675                   0.533               0.593   \n",
              "0                       0.995                   0.527               0.689   \n",
              "1                       1.000                   0.527               0.690   \n",
              "\n",
              "    mean_train_precision_score  mean_train_recall_score  mean_train_f1_score  \\\n",
              "15                       0.164                    0.656                0.262   \n",
              "14                       0.162                    0.652                0.260   \n",
              "16                       0.759                    0.813                0.782   \n",
              "0                        1.000                    0.856                0.923   \n",
              "1                        1.000                    1.000                1.000   \n",
              "\n",
              "   param_max_depth param_class_weight param_n_estimators  \n",
              "15               5     {0: 1, 1: 100}                150  \n",
              "14               5     {0: 1, 1: 100}                 10  \n",
              "16              15     {0: 1, 1: 100}                 10  \n",
              "0             None     {0: 1, 1: 0.2}                 10  \n",
              "1             None     {0: 1, 1: 0.2}                150  "
            ]
          },
          "execution_count": 50,
          "metadata": {},
          "output_type": "execute_result"
        }
      ],
      "source": [
        "# predict class labels for the test set\n",
        "predictedBest_recall = best_RF_model_recall.predict(X_test)\n",
        "\n",
        "# generate class probabilities\n",
        "probsBest_recall = best_RF_model_recall.predict_proba(X_test)\n",
        "\n",
        "results_recall = pd.DataFrame(grid_search_rf_recall.cv_results_)# recall score is different from above, as above is metric on test data, this is performance on cv data\n",
        "results_sortrecall = results_recall.sort_values(by='mean_test_recall_score', ascending=False)\n",
        "results_sortrecall[['mean_test_precision_score', 'mean_test_recall_score', 'mean_test_f1_score', 'mean_train_precision_score', 'mean_train_recall_score', 'mean_train_f1_score','param_max_depth', 'param_class_weight', 'param_n_estimators']].round(3).head()\n",
        "#recall is worse than default rf?? no this is on test, but train recall is better"
      ]
    },
    {
      "cell_type": "markdown",
      "metadata": {},
      "source": [
        "## Optimizing f1_score on XGBoost"
      ]
    },
    {
      "cell_type": "code",
      "execution_count": 61,
      "metadata": {},
      "outputs": [],
      "source": [
        "xgb_model = xgb.XGBClassifier()\n",
        "\n",
        "# Define a parameter grid for hyperparameter tuning\n",
        "param_grid = {\n",
        "    'n_estimators': [100, 200, 300],  # Number of boosting rounds\n",
        "    'max_depth': [3, 4, 5],         # Maximum depth of each tree\n",
        "    'learning_rate': [0.01, 0.1, 0.2],\n",
        "    'subsample': [0.8, 0.9, 1.0],\n",
        "    'colsample_bytree': [0.8, 0.9, 1.0]\n",
        "}"
      ]
    },
    {
      "cell_type": "code",
      "execution_count": 62,
      "metadata": {},
      "outputs": [
        {
          "name": "stdout",
          "output_type": "stream",
          "text": [
            "Best params for f1_score\n",
            "{'colsample_bytree': 1.0, 'learning_rate': 0.2, 'max_depth': 4, 'n_estimators': 200, 'subsample': 1.0}\n",
            "\n",
            "Confusion matrix of Random Forest optimized for f1_score on the test data:\n",
            "        pred_0  pred_1\n",
            "true_0   27386       3\n",
            "true_1     147     140\n",
            "\troc_auc_score is: : 0.7729333338252353\n",
            "\tf1_score is: : 0.6511627906976744\n",
            "recall =  0.4878048780487805\n",
            "precision =  0.9790209790209791\n"
          ]
        }
      ],
      "source": [
        "grid_search_xgb = grid_search_wrapper(xgb_model, param_grid , refit_score='f1_score')"
      ]
    },
    {
      "cell_type": "code",
      "execution_count": 68,
      "metadata": {},
      "outputs": [
        {
          "name": "stdout",
          "output_type": "stream",
          "text": [
            "Best params for recall_score\n",
            "{'colsample_bytree': 0.8, 'learning_rate': 0.01, 'max_depth': 3, 'n_estimators': 300, 'subsample': 0.8}\n",
            "\n",
            "Confusion matrix of Random Forest optimized for recall_score on the test data:\n",
            "        pred_0  pred_1\n",
            "true_0   27384       5\n",
            "true_1     142     145\n",
            "\troc_auc_score is: : 0.7943721652287224\n",
            "\tf1_score is: : 0.6636155606407322\n",
            "recall =  0.5052264808362369\n",
            "precision =  0.9666666666666667\n"
          ]
        }
      ],
      "source": [
        "xgb_model_2 = xgb.XGBClassifier()\n",
        "grid_search_xgb_recall = grid_search_wrapper(xgb_model_2, param_grid , refit_score='recall_score')"
      ]
    },
    {
      "cell_type": "markdown",
      "metadata": {},
      "source": [
        "Similar performance as random forest"
      ]
    },
    {
      "cell_type": "markdown",
      "metadata": {},
      "source": [
        "## Model optimization & Smote"
      ]
    },
    {
      "cell_type": "code",
      "execution_count": 72,
      "metadata": {},
      "outputs": [],
      "source": [
        "xgb_model_3 = xgb.XGBClassifier()\n",
        "\n",
        "# Define a parameter grid for hyperparameter tuning\n",
        "param_grid = {\n",
        "    'classifier__n_estimators': [100, 200, 300],  # Number of boosting rounds\n",
        "    'classifier__max_depth': [3, 4, 5],         # Maximum depth of each tree\n",
        "    'classifier__learning_rate': [0.01, 0.1, 0.2],\n",
        "    'classifier__subsample': [0.8, 0.9, 1.0],\n",
        "    'classifier__colsample_bytree': [0.8, 0.9, 1.0]\n",
        "}"
      ]
    },
    {
      "cell_type": "code",
      "execution_count": 73,
      "metadata": {},
      "outputs": [
        {
          "data": {
            "text/html": [
              "<style>#sk-container-id-3 {color: black;}#sk-container-id-3 pre{padding: 0;}#sk-container-id-3 div.sk-toggleable {background-color: white;}#sk-container-id-3 label.sk-toggleable__label {cursor: pointer;display: block;width: 100%;margin-bottom: 0;padding: 0.3em;box-sizing: border-box;text-align: center;}#sk-container-id-3 label.sk-toggleable__label-arrow:before {content: \"▸\";float: left;margin-right: 0.25em;color: #696969;}#sk-container-id-3 label.sk-toggleable__label-arrow:hover:before {color: black;}#sk-container-id-3 div.sk-estimator:hover label.sk-toggleable__label-arrow:before {color: black;}#sk-container-id-3 div.sk-toggleable__content {max-height: 0;max-width: 0;overflow: hidden;text-align: left;background-color: #f0f8ff;}#sk-container-id-3 div.sk-toggleable__content pre {margin: 0.2em;color: black;border-radius: 0.25em;background-color: #f0f8ff;}#sk-container-id-3 input.sk-toggleable__control:checked~div.sk-toggleable__content {max-height: 200px;max-width: 100%;overflow: auto;}#sk-container-id-3 input.sk-toggleable__control:checked~label.sk-toggleable__label-arrow:before {content: \"▾\";}#sk-container-id-3 div.sk-estimator input.sk-toggleable__control:checked~label.sk-toggleable__label {background-color: #d4ebff;}#sk-container-id-3 div.sk-label input.sk-toggleable__control:checked~label.sk-toggleable__label {background-color: #d4ebff;}#sk-container-id-3 input.sk-hidden--visually {border: 0;clip: rect(1px 1px 1px 1px);clip: rect(1px, 1px, 1px, 1px);height: 1px;margin: -1px;overflow: hidden;padding: 0;position: absolute;width: 1px;}#sk-container-id-3 div.sk-estimator {font-family: monospace;background-color: #f0f8ff;border: 1px dotted black;border-radius: 0.25em;box-sizing: border-box;margin-bottom: 0.5em;}#sk-container-id-3 div.sk-estimator:hover {background-color: #d4ebff;}#sk-container-id-3 div.sk-parallel-item::after {content: \"\";width: 100%;border-bottom: 1px solid gray;flex-grow: 1;}#sk-container-id-3 div.sk-label:hover label.sk-toggleable__label {background-color: #d4ebff;}#sk-container-id-3 div.sk-serial::before {content: \"\";position: absolute;border-left: 1px solid gray;box-sizing: border-box;top: 0;bottom: 0;left: 50%;z-index: 0;}#sk-container-id-3 div.sk-serial {display: flex;flex-direction: column;align-items: center;background-color: white;padding-right: 0.2em;padding-left: 0.2em;position: relative;}#sk-container-id-3 div.sk-item {position: relative;z-index: 1;}#sk-container-id-3 div.sk-parallel {display: flex;align-items: stretch;justify-content: center;background-color: white;position: relative;}#sk-container-id-3 div.sk-item::before, #sk-container-id-3 div.sk-parallel-item::before {content: \"\";position: absolute;border-left: 1px solid gray;box-sizing: border-box;top: 0;bottom: 0;left: 50%;z-index: -1;}#sk-container-id-3 div.sk-parallel-item {display: flex;flex-direction: column;z-index: 1;position: relative;background-color: white;}#sk-container-id-3 div.sk-parallel-item:first-child::after {align-self: flex-end;width: 50%;}#sk-container-id-3 div.sk-parallel-item:last-child::after {align-self: flex-start;width: 50%;}#sk-container-id-3 div.sk-parallel-item:only-child::after {width: 0;}#sk-container-id-3 div.sk-dashed-wrapped {border: 1px dashed gray;margin: 0 0.4em 0.5em 0.4em;box-sizing: border-box;padding-bottom: 0.4em;background-color: white;}#sk-container-id-3 div.sk-label label {font-family: monospace;font-weight: bold;display: inline-block;line-height: 1.2em;}#sk-container-id-3 div.sk-label-container {text-align: center;}#sk-container-id-3 div.sk-container {/* jupyter's `normalize.less` sets `[hidden] { display: none; }` but bootstrap.min.css set `[hidden] { display: none !important; }` so we also need the `!important` here to be able to override the default hidden behavior on the sphinx rendered scikit-learn.org. See: https://github.com/scikit-learn/scikit-learn/issues/21755 */display: inline-block !important;position: relative;}#sk-container-id-3 div.sk-text-repr-fallback {display: none;}</style><div id=\"sk-container-id-3\" class=\"sk-top-container\"><div class=\"sk-text-repr-fallback\"><pre>GridSearchCV(cv=5,\n",
              "             estimator=Pipeline(steps=[[&#x27;smote&#x27;, SMOTE(random_state=42)],\n",
              "                                       [&#x27;classifier&#x27;,\n",
              "                                        XGBClassifier(base_score=None,\n",
              "                                                      booster=None,\n",
              "                                                      callbacks=None,\n",
              "                                                      colsample_bylevel=None,\n",
              "                                                      colsample_bynode=None,\n",
              "                                                      colsample_bytree=None,\n",
              "                                                      device=None,\n",
              "                                                      early_stopping_rounds=None,\n",
              "                                                      enable_categorical=False,\n",
              "                                                      eval_metric=None,\n",
              "                                                      feature_types=None,\n",
              "                                                      gamma=None,\n",
              "                                                      grow_policy=None,\n",
              "                                                      import...\n",
              "                                                      monotone_constraints=None,\n",
              "                                                      multi_strategy=None,\n",
              "                                                      n_estimators=None,\n",
              "                                                      n_jobs=None,\n",
              "                                                      num_parallel_tree=None,\n",
              "                                                      random_state=None, ...)]]),\n",
              "             param_grid={&#x27;classifier__colsample_bytree&#x27;: [0.8, 0.9, 1.0],\n",
              "                         &#x27;classifier__learning_rate&#x27;: [0.01, 0.1, 0.2],\n",
              "                         &#x27;classifier__max_depth&#x27;: [3, 4, 5],\n",
              "                         &#x27;classifier__n_estimators&#x27;: [100, 200, 300],\n",
              "                         &#x27;classifier__subsample&#x27;: [0.8, 0.9, 1.0]},\n",
              "             scoring=&#x27;recall&#x27;)</pre><b>In a Jupyter environment, please rerun this cell to show the HTML representation or trust the notebook. <br />On GitHub, the HTML representation is unable to render, please try loading this page with nbviewer.org.</b></div><div class=\"sk-container\" hidden><div class=\"sk-item sk-dashed-wrapped\"><div class=\"sk-label-container\"><div class=\"sk-label sk-toggleable\"><input class=\"sk-toggleable__control sk-hidden--visually\" id=\"sk-estimator-id-3\" type=\"checkbox\" ><label for=\"sk-estimator-id-3\" class=\"sk-toggleable__label sk-toggleable__label-arrow\">GridSearchCV</label><div class=\"sk-toggleable__content\"><pre>GridSearchCV(cv=5,\n",
              "             estimator=Pipeline(steps=[[&#x27;smote&#x27;, SMOTE(random_state=42)],\n",
              "                                       [&#x27;classifier&#x27;,\n",
              "                                        XGBClassifier(base_score=None,\n",
              "                                                      booster=None,\n",
              "                                                      callbacks=None,\n",
              "                                                      colsample_bylevel=None,\n",
              "                                                      colsample_bynode=None,\n",
              "                                                      colsample_bytree=None,\n",
              "                                                      device=None,\n",
              "                                                      early_stopping_rounds=None,\n",
              "                                                      enable_categorical=False,\n",
              "                                                      eval_metric=None,\n",
              "                                                      feature_types=None,\n",
              "                                                      gamma=None,\n",
              "                                                      grow_policy=None,\n",
              "                                                      import...\n",
              "                                                      monotone_constraints=None,\n",
              "                                                      multi_strategy=None,\n",
              "                                                      n_estimators=None,\n",
              "                                                      n_jobs=None,\n",
              "                                                      num_parallel_tree=None,\n",
              "                                                      random_state=None, ...)]]),\n",
              "             param_grid={&#x27;classifier__colsample_bytree&#x27;: [0.8, 0.9, 1.0],\n",
              "                         &#x27;classifier__learning_rate&#x27;: [0.01, 0.1, 0.2],\n",
              "                         &#x27;classifier__max_depth&#x27;: [3, 4, 5],\n",
              "                         &#x27;classifier__n_estimators&#x27;: [100, 200, 300],\n",
              "                         &#x27;classifier__subsample&#x27;: [0.8, 0.9, 1.0]},\n",
              "             scoring=&#x27;recall&#x27;)</pre></div></div></div><div class=\"sk-parallel\"><div class=\"sk-parallel-item\"><div class=\"sk-item\"><div class=\"sk-label-container\"><div class=\"sk-label sk-toggleable\"><input class=\"sk-toggleable__control sk-hidden--visually\" id=\"sk-estimator-id-4\" type=\"checkbox\" ><label for=\"sk-estimator-id-4\" class=\"sk-toggleable__label sk-toggleable__label-arrow\">estimator: Pipeline</label><div class=\"sk-toggleable__content\"><pre>Pipeline(steps=[[&#x27;smote&#x27;, SMOTE(random_state=42)],\n",
              "                [&#x27;classifier&#x27;,\n",
              "                 XGBClassifier(base_score=None, booster=None, callbacks=None,\n",
              "                               colsample_bylevel=None, colsample_bynode=None,\n",
              "                               colsample_bytree=None, device=None,\n",
              "                               early_stopping_rounds=None,\n",
              "                               enable_categorical=False, eval_metric=None,\n",
              "                               feature_types=None, gamma=None, grow_policy=None,\n",
              "                               importance_type=None,\n",
              "                               interaction_constraints=None, learning_rate=None,\n",
              "                               max_bin=None, max_cat_threshold=None,\n",
              "                               max_cat_to_onehot=None, max_delta_step=None,\n",
              "                               max_depth=None, max_leaves=None,\n",
              "                               min_child_weight=None, missing=nan,\n",
              "                               monotone_constraints=None, multi_strategy=None,\n",
              "                               n_estimators=None, n_jobs=None,\n",
              "                               num_parallel_tree=None, random_state=None, ...)]])</pre></div></div></div><div class=\"sk-serial\"><div class=\"sk-item\"><div class=\"sk-serial\"><div class=\"sk-item\"><div class=\"sk-estimator sk-toggleable\"><input class=\"sk-toggleable__control sk-hidden--visually\" id=\"sk-estimator-id-5\" type=\"checkbox\" ><label for=\"sk-estimator-id-5\" class=\"sk-toggleable__label sk-toggleable__label-arrow\">SMOTE</label><div class=\"sk-toggleable__content\"><pre>SMOTE(random_state=42)</pre></div></div></div><div class=\"sk-item\"><div class=\"sk-estimator sk-toggleable\"><input class=\"sk-toggleable__control sk-hidden--visually\" id=\"sk-estimator-id-6\" type=\"checkbox\" ><label for=\"sk-estimator-id-6\" class=\"sk-toggleable__label sk-toggleable__label-arrow\">XGBClassifier</label><div class=\"sk-toggleable__content\"><pre>XGBClassifier(base_score=None, booster=None, callbacks=None,\n",
              "              colsample_bylevel=None, colsample_bynode=None,\n",
              "              colsample_bytree=None, device=None, early_stopping_rounds=None,\n",
              "              enable_categorical=False, eval_metric=None, feature_types=None,\n",
              "              gamma=None, grow_policy=None, importance_type=None,\n",
              "              interaction_constraints=None, learning_rate=None, max_bin=None,\n",
              "              max_cat_threshold=None, max_cat_to_onehot=None,\n",
              "              max_delta_step=None, max_depth=None, max_leaves=None,\n",
              "              min_child_weight=None, missing=nan, monotone_constraints=None,\n",
              "              multi_strategy=None, n_estimators=None, n_jobs=None,\n",
              "              num_parallel_tree=None, random_state=None, ...)</pre></div></div></div></div></div></div></div></div></div></div></div></div>"
            ],
            "text/plain": [
              "GridSearchCV(cv=5,\n",
              "             estimator=Pipeline(steps=[['smote', SMOTE(random_state=42)],\n",
              "                                       ['classifier',\n",
              "                                        XGBClassifier(base_score=None,\n",
              "                                                      booster=None,\n",
              "                                                      callbacks=None,\n",
              "                                                      colsample_bylevel=None,\n",
              "                                                      colsample_bynode=None,\n",
              "                                                      colsample_bytree=None,\n",
              "                                                      device=None,\n",
              "                                                      early_stopping_rounds=None,\n",
              "                                                      enable_categorical=False,\n",
              "                                                      eval_metric=None,\n",
              "                                                      feature_types=None,\n",
              "                                                      gamma=None,\n",
              "                                                      grow_policy=None,\n",
              "                                                      import...\n",
              "                                                      monotone_constraints=None,\n",
              "                                                      multi_strategy=None,\n",
              "                                                      n_estimators=None,\n",
              "                                                      n_jobs=None,\n",
              "                                                      num_parallel_tree=None,\n",
              "                                                      random_state=None, ...)]]),\n",
              "             param_grid={'classifier__colsample_bytree': [0.8, 0.9, 1.0],\n",
              "                         'classifier__learning_rate': [0.01, 0.1, 0.2],\n",
              "                         'classifier__max_depth': [3, 4, 5],\n",
              "                         'classifier__n_estimators': [100, 200, 300],\n",
              "                         'classifier__subsample': [0.8, 0.9, 1.0]},\n",
              "             scoring='recall')"
            ]
          },
          "execution_count": 73,
          "metadata": {},
          "output_type": "execute_result"
        }
      ],
      "source": [
        "pipeline = imbpipeline(steps = [['smote', SMOTE(sampling_strategy='auto', random_state=42)],\n",
        "                                ['classifier', xgb_model_3]])\n",
        "grid_search_xgb = GridSearchCV(pipeline, param_grid, cv=5, scoring='recall')\n",
        "grid_search_xgb.fit(X_train,y_train)"
      ]
    },
    {
      "cell_type": "code",
      "execution_count": 75,
      "metadata": {},
      "outputs": [],
      "source": [
        "y_pred = grid_search_xgb.predict(X_test)\n",
        "y_prob = grid_search_xgb.predict_proba(X_test)[:, 1]"
      ]
    },
    {
      "cell_type": "code",
      "execution_count": 76,
      "metadata": {},
      "outputs": [
        {
          "name": "stdout",
          "output_type": "stream",
          "text": [
            "Best params for recall score\n",
            "{'classifier__colsample_bytree': 0.9, 'classifier__learning_rate': 0.2, 'classifier__max_depth': 3, 'classifier__n_estimators': 100, 'classifier__subsample': 0.8}\n",
            "\n",
            "Confusion matrix of Random Forest optimized for recall score on the test data:\n",
            "        pred_0  pred_1\n",
            "true_0   25827    1562\n",
            "true_1     133     154\n",
            "\troc_auc_score is: : 0.767189656113374\n",
            "\tf1_score is: : 0.15376934598102845\n",
            "recall =  0.5365853658536586\n",
            "precision =  0.08974358974358974\n"
          ]
        }
      ],
      "source": [
        "print('Best params for recall score')\n",
        "print(grid_search_xgb.best_params_)\n",
        "\n",
        "# confusion matrix on the test data.\n",
        "print('\\nConfusion matrix of Random Forest optimized for recall score on the test data:')\n",
        "cm = confusion_matrix(y_test, y_pred)\n",
        "cmDF = pd.DataFrame(cm, columns=['pred_0', 'pred_1'], index=['true_0', 'true_1'])\n",
        "print(cmDF)\n",
        "\n",
        "print(\"\\t%s: %r\" % (\"roc_auc_score is: \", roc_auc_score(y_test, y_prob)))\n",
        "print(\"\\t%s: %r\" % (\"f1_score is: \", f1_score(y_test, y_pred)))#string to int\n",
        "\n",
        "print('recall = ', float(cm[1,1]) / (cm[1,0] + cm[1,1]))\n",
        "print('precision = ', float(cm[1,1]) / (cm[1, 1] + cm[0,1]))"
      ]
    },
    {
      "cell_type": "code",
      "execution_count": 74,
      "metadata": {},
      "outputs": [
        {
          "data": {
            "text/html": [
              "<style>#sk-container-id-4 {color: black;}#sk-container-id-4 pre{padding: 0;}#sk-container-id-4 div.sk-toggleable {background-color: white;}#sk-container-id-4 label.sk-toggleable__label {cursor: pointer;display: block;width: 100%;margin-bottom: 0;padding: 0.3em;box-sizing: border-box;text-align: center;}#sk-container-id-4 label.sk-toggleable__label-arrow:before {content: \"▸\";float: left;margin-right: 0.25em;color: #696969;}#sk-container-id-4 label.sk-toggleable__label-arrow:hover:before {color: black;}#sk-container-id-4 div.sk-estimator:hover label.sk-toggleable__label-arrow:before {color: black;}#sk-container-id-4 div.sk-toggleable__content {max-height: 0;max-width: 0;overflow: hidden;text-align: left;background-color: #f0f8ff;}#sk-container-id-4 div.sk-toggleable__content pre {margin: 0.2em;color: black;border-radius: 0.25em;background-color: #f0f8ff;}#sk-container-id-4 input.sk-toggleable__control:checked~div.sk-toggleable__content {max-height: 200px;max-width: 100%;overflow: auto;}#sk-container-id-4 input.sk-toggleable__control:checked~label.sk-toggleable__label-arrow:before {content: \"▾\";}#sk-container-id-4 div.sk-estimator input.sk-toggleable__control:checked~label.sk-toggleable__label {background-color: #d4ebff;}#sk-container-id-4 div.sk-label input.sk-toggleable__control:checked~label.sk-toggleable__label {background-color: #d4ebff;}#sk-container-id-4 input.sk-hidden--visually {border: 0;clip: rect(1px 1px 1px 1px);clip: rect(1px, 1px, 1px, 1px);height: 1px;margin: -1px;overflow: hidden;padding: 0;position: absolute;width: 1px;}#sk-container-id-4 div.sk-estimator {font-family: monospace;background-color: #f0f8ff;border: 1px dotted black;border-radius: 0.25em;box-sizing: border-box;margin-bottom: 0.5em;}#sk-container-id-4 div.sk-estimator:hover {background-color: #d4ebff;}#sk-container-id-4 div.sk-parallel-item::after {content: \"\";width: 100%;border-bottom: 1px solid gray;flex-grow: 1;}#sk-container-id-4 div.sk-label:hover label.sk-toggleable__label {background-color: #d4ebff;}#sk-container-id-4 div.sk-serial::before {content: \"\";position: absolute;border-left: 1px solid gray;box-sizing: border-box;top: 0;bottom: 0;left: 50%;z-index: 0;}#sk-container-id-4 div.sk-serial {display: flex;flex-direction: column;align-items: center;background-color: white;padding-right: 0.2em;padding-left: 0.2em;position: relative;}#sk-container-id-4 div.sk-item {position: relative;z-index: 1;}#sk-container-id-4 div.sk-parallel {display: flex;align-items: stretch;justify-content: center;background-color: white;position: relative;}#sk-container-id-4 div.sk-item::before, #sk-container-id-4 div.sk-parallel-item::before {content: \"\";position: absolute;border-left: 1px solid gray;box-sizing: border-box;top: 0;bottom: 0;left: 50%;z-index: -1;}#sk-container-id-4 div.sk-parallel-item {display: flex;flex-direction: column;z-index: 1;position: relative;background-color: white;}#sk-container-id-4 div.sk-parallel-item:first-child::after {align-self: flex-end;width: 50%;}#sk-container-id-4 div.sk-parallel-item:last-child::after {align-self: flex-start;width: 50%;}#sk-container-id-4 div.sk-parallel-item:only-child::after {width: 0;}#sk-container-id-4 div.sk-dashed-wrapped {border: 1px dashed gray;margin: 0 0.4em 0.5em 0.4em;box-sizing: border-box;padding-bottom: 0.4em;background-color: white;}#sk-container-id-4 div.sk-label label {font-family: monospace;font-weight: bold;display: inline-block;line-height: 1.2em;}#sk-container-id-4 div.sk-label-container {text-align: center;}#sk-container-id-4 div.sk-container {/* jupyter's `normalize.less` sets `[hidden] { display: none; }` but bootstrap.min.css set `[hidden] { display: none !important; }` so we also need the `!important` here to be able to override the default hidden behavior on the sphinx rendered scikit-learn.org. See: https://github.com/scikit-learn/scikit-learn/issues/21755 */display: inline-block !important;position: relative;}#sk-container-id-4 div.sk-text-repr-fallback {display: none;}</style><div id=\"sk-container-id-4\" class=\"sk-top-container\"><div class=\"sk-text-repr-fallback\"><pre>GridSearchCV(cv=5,\n",
              "             estimator=Pipeline(steps=[[&#x27;smote&#x27;, SMOTE(random_state=42)],\n",
              "                                       [&#x27;classifier&#x27;,\n",
              "                                        RandomForestClassifier(random_state=0)]]),\n",
              "             param_grid={&#x27;classifier__class_weight&#x27;: [{0: 1, 1: 0.2},\n",
              "                                                      {0: 1, 1: 1},\n",
              "                                                      {0: 1, 1: 100}],\n",
              "                         &#x27;classifier__max_depth&#x27;: [None, 5, 15],\n",
              "                         &#x27;classifier__n_estimators&#x27;: [10, 150]},\n",
              "             scoring=&#x27;recall&#x27;)</pre><b>In a Jupyter environment, please rerun this cell to show the HTML representation or trust the notebook. <br />On GitHub, the HTML representation is unable to render, please try loading this page with nbviewer.org.</b></div><div class=\"sk-container\" hidden><div class=\"sk-item sk-dashed-wrapped\"><div class=\"sk-label-container\"><div class=\"sk-label sk-toggleable\"><input class=\"sk-toggleable__control sk-hidden--visually\" id=\"sk-estimator-id-7\" type=\"checkbox\" ><label for=\"sk-estimator-id-7\" class=\"sk-toggleable__label sk-toggleable__label-arrow\">GridSearchCV</label><div class=\"sk-toggleable__content\"><pre>GridSearchCV(cv=5,\n",
              "             estimator=Pipeline(steps=[[&#x27;smote&#x27;, SMOTE(random_state=42)],\n",
              "                                       [&#x27;classifier&#x27;,\n",
              "                                        RandomForestClassifier(random_state=0)]]),\n",
              "             param_grid={&#x27;classifier__class_weight&#x27;: [{0: 1, 1: 0.2},\n",
              "                                                      {0: 1, 1: 1},\n",
              "                                                      {0: 1, 1: 100}],\n",
              "                         &#x27;classifier__max_depth&#x27;: [None, 5, 15],\n",
              "                         &#x27;classifier__n_estimators&#x27;: [10, 150]},\n",
              "             scoring=&#x27;recall&#x27;)</pre></div></div></div><div class=\"sk-parallel\"><div class=\"sk-parallel-item\"><div class=\"sk-item\"><div class=\"sk-label-container\"><div class=\"sk-label sk-toggleable\"><input class=\"sk-toggleable__control sk-hidden--visually\" id=\"sk-estimator-id-8\" type=\"checkbox\" ><label for=\"sk-estimator-id-8\" class=\"sk-toggleable__label sk-toggleable__label-arrow\">estimator: Pipeline</label><div class=\"sk-toggleable__content\"><pre>Pipeline(steps=[[&#x27;smote&#x27;, SMOTE(random_state=42)],\n",
              "                [&#x27;classifier&#x27;, RandomForestClassifier(random_state=0)]])</pre></div></div></div><div class=\"sk-serial\"><div class=\"sk-item\"><div class=\"sk-serial\"><div class=\"sk-item\"><div class=\"sk-estimator sk-toggleable\"><input class=\"sk-toggleable__control sk-hidden--visually\" id=\"sk-estimator-id-9\" type=\"checkbox\" ><label for=\"sk-estimator-id-9\" class=\"sk-toggleable__label sk-toggleable__label-arrow\">SMOTE</label><div class=\"sk-toggleable__content\"><pre>SMOTE(random_state=42)</pre></div></div></div><div class=\"sk-item\"><div class=\"sk-estimator sk-toggleable\"><input class=\"sk-toggleable__control sk-hidden--visually\" id=\"sk-estimator-id-10\" type=\"checkbox\" ><label for=\"sk-estimator-id-10\" class=\"sk-toggleable__label sk-toggleable__label-arrow\">RandomForestClassifier</label><div class=\"sk-toggleable__content\"><pre>RandomForestClassifier(random_state=0)</pre></div></div></div></div></div></div></div></div></div></div></div></div>"
            ],
            "text/plain": [
              "GridSearchCV(cv=5,\n",
              "             estimator=Pipeline(steps=[['smote', SMOTE(random_state=42)],\n",
              "                                       ['classifier',\n",
              "                                        RandomForestClassifier(random_state=0)]]),\n",
              "             param_grid={'classifier__class_weight': [{0: 1, 1: 0.2},\n",
              "                                                      {0: 1, 1: 1},\n",
              "                                                      {0: 1, 1: 100}],\n",
              "                         'classifier__max_depth': [None, 5, 15],\n",
              "                         'classifier__n_estimators': [10, 150]},\n",
              "             scoring='recall')"
            ]
          },
          "execution_count": 74,
          "metadata": {},
          "output_type": "execute_result"
        }
      ],
      "source": [
        "clf_2 = RandomForestClassifier(random_state=0)\n",
        "\n",
        "param_grid = {\n",
        "    'classifier__max_depth': [None, 5, 15],\n",
        "    'classifier__n_estimators' :  [10,150],\n",
        "    'classifier__class_weight' : [{0: 1, 1: w} for w in [0.2, 1, 100]]\n",
        "}\n",
        "\n",
        "pipeline = imbpipeline(steps = [['smote', SMOTE(sampling_strategy='auto', random_state=42)],\n",
        "                                ['classifier', clf_2]])\n",
        "grid_search_rf = GridSearchCV(pipeline, param_grid, cv=5, scoring='recall')\n",
        "grid_search_rf.fit(X_train,y_train)"
      ]
    },
    {
      "cell_type": "code",
      "execution_count": 77,
      "metadata": {},
      "outputs": [],
      "source": [
        "y_pred = grid_search_rf.predict(X_test)\n",
        "y_prob = grid_search_rf.predict_proba(X_test)[:, 1]"
      ]
    },
    {
      "cell_type": "code",
      "execution_count": 78,
      "metadata": {},
      "outputs": [
        {
          "name": "stdout",
          "output_type": "stream",
          "text": [
            "Best params for recall score\n",
            "{'classifier__colsample_bytree': 0.9, 'classifier__learning_rate': 0.2, 'classifier__max_depth': 3, 'classifier__n_estimators': 100, 'classifier__subsample': 0.8}\n",
            "\n",
            "Confusion matrix of XGBoost optimized for recall score on the test data:\n",
            "        pred_0  pred_1\n",
            "true_0      10   27379\n",
            "true_1       0     287\n",
            "\troc_auc_score is: : 0.6626015200028802\n",
            "\tf1_score is: : 0.02053446857224627\n",
            "recall =  1.0\n",
            "precision =  0.010373743945637245\n"
          ]
        }
      ],
      "source": [
        "print('Best params for recall score')\n",
        "print(grid_search_xgb.best_params_)\n",
        "\n",
        "# confusion matrix on the test data.\n",
        "print('\\nConfusion matrix of XGBoost optimized for recall score on the test data:')\n",
        "cm = confusion_matrix(y_test, y_pred)\n",
        "cmDF = pd.DataFrame(cm, columns=['pred_0', 'pred_1'], index=['true_0', 'true_1'])\n",
        "print(cmDF)\n",
        "\n",
        "print(\"\\t%s: %r\" % (\"roc_auc_score is: \", roc_auc_score(y_test, y_prob)))\n",
        "print(\"\\t%s: %r\" % (\"f1_score is: \", f1_score(y_test, y_pred)))#string to int\n",
        "\n",
        "print('recall = ', float(cm[1,1]) / (cm[1,0] + cm[1,1]))\n",
        "print('precision = ', float(cm[1,1]) / (cm[1, 1] + cm[0,1]))"
      ]
    },
    {
      "cell_type": "markdown",
      "metadata": {},
      "source": [
        "Predicts most data as positive"
      ]
    },
    {
      "cell_type": "markdown",
      "metadata": {
        "id": "UXvU-OxVsUs7"
      },
      "source": [
        "# Part 7: Fraud Characteristics"
      ]
    },
    {
      "cell_type": "code",
      "execution_count": 51,
      "metadata": {
        "colab": {
          "base_uri": "https://localhost:8080/"
        },
        "id": "jL6RHnausPcH",
        "outputId": "dc75b154-2b57-4ee3-e37d-389a15f679f7"
      },
      "outputs": [
        {
          "data": {
            "text/html": [
              "<div>\n",
              "<style scoped>\n",
              "    .dataframe tbody tr th:only-of-type {\n",
              "        vertical-align: middle;\n",
              "    }\n",
              "\n",
              "    .dataframe tbody tr th {\n",
              "        vertical-align: top;\n",
              "    }\n",
              "\n",
              "    .dataframe thead th {\n",
              "        text-align: right;\n",
              "    }\n",
              "</style>\n",
              "<table border=\"1\" class=\"dataframe\">\n",
              "  <thead>\n",
              "    <tr style=\"text-align: right;\">\n",
              "      <th>class</th>\n",
              "      <th>0</th>\n",
              "      <th>1</th>\n",
              "    </tr>\n",
              "    <tr>\n",
              "      <th>n_dev_shared</th>\n",
              "      <th></th>\n",
              "      <th></th>\n",
              "    </tr>\n",
              "  </thead>\n",
              "  <tbody>\n",
              "    <tr>\n",
              "      <th>0.0</th>\n",
              "      <td>104966</td>\n",
              "      <td>461</td>\n",
              "    </tr>\n",
              "    <tr>\n",
              "      <th>0.2</th>\n",
              "      <td>4403</td>\n",
              "      <td>371</td>\n",
              "    </tr>\n",
              "    <tr>\n",
              "      <th>0.4</th>\n",
              "      <td>152</td>\n",
              "      <td>172</td>\n",
              "    </tr>\n",
              "    <tr>\n",
              "      <th>0.6</th>\n",
              "      <td>37</td>\n",
              "      <td>87</td>\n",
              "    </tr>\n",
              "    <tr>\n",
              "      <th>0.8</th>\n",
              "      <td>13</td>\n",
              "      <td>32</td>\n",
              "    </tr>\n",
              "    <tr>\n",
              "      <th>1.0</th>\n",
              "      <td>1</td>\n",
              "      <td>5</td>\n",
              "    </tr>\n",
              "  </tbody>\n",
              "</table>\n",
              "</div>"
            ],
            "text/plain": [
              "class              0    1\n",
              "n_dev_shared             \n",
              "0.0           104966  461\n",
              "0.2             4403  371\n",
              "0.4              152  172\n",
              "0.6               37   87\n",
              "0.8               13   32\n",
              "1.0                1    5"
            ]
          },
          "execution_count": 51,
          "metadata": {},
          "output_type": "execute_result"
        }
      ],
      "source": [
        "trainDF = pd.concat([X_train, y_train], axis=1)\n",
        "pd.crosstab(trainDF[\"n_dev_shared\"],trainDF[\"class\"])\n",
        "#the larger n_dev_shared, the higher rate of fraud"
      ]
    },
    {
      "cell_type": "code",
      "execution_count": 52,
      "metadata": {
        "colab": {
          "base_uri": "https://localhost:8080/",
          "height": 141
        },
        "id": "cYog2kSTsakj",
        "outputId": "4a5e0a1b-0aec-4973-8347-da09d34bcf78"
      },
      "outputs": [
        {
          "data": {
            "text/html": [
              "<div>\n",
              "<style scoped>\n",
              "    .dataframe tbody tr th:only-of-type {\n",
              "        vertical-align: middle;\n",
              "    }\n",
              "\n",
              "    .dataframe tbody tr th {\n",
              "        vertical-align: top;\n",
              "    }\n",
              "\n",
              "    .dataframe thead th {\n",
              "        text-align: right;\n",
              "    }\n",
              "</style>\n",
              "<table border=\"1\" class=\"dataframe\">\n",
              "  <thead>\n",
              "    <tr style=\"text-align: right;\">\n",
              "      <th></th>\n",
              "      <th>interval_after_signup</th>\n",
              "    </tr>\n",
              "    <tr>\n",
              "      <th>class</th>\n",
              "      <th></th>\n",
              "    </tr>\n",
              "  </thead>\n",
              "  <tbody>\n",
              "    <tr>\n",
              "      <th>0</th>\n",
              "      <td>5.191179e+06</td>\n",
              "    </tr>\n",
              "    <tr>\n",
              "      <th>1</th>\n",
              "      <td>2.570226e+06</td>\n",
              "    </tr>\n",
              "  </tbody>\n",
              "</table>\n",
              "</div>"
            ],
            "text/plain": [
              "       interval_after_signup\n",
              "class                       \n",
              "0               5.191179e+06\n",
              "1               2.570226e+06"
            ]
          },
          "execution_count": 52,
          "metadata": {},
          "output_type": "execute_result"
        }
      ],
      "source": [
        "fraud_data.groupby(\"class\")[['interval_after_signup']].mean()\n",
        "#action velocity(consecutive operations/actions of user)\n",
        "#interval_after_signup on frauds are significantly lower compared to legits"
      ]
    },
    {
      "cell_type": "code",
      "execution_count": 53,
      "metadata": {
        "colab": {
          "base_uri": "https://localhost:8080/",
          "height": 141
        },
        "id": "qtX09Ptpujgi",
        "outputId": "6301cc7c-9503-40bc-a1ab-e5815cd76d11"
      },
      "outputs": [
        {
          "data": {
            "text/html": [
              "<div>\n",
              "<style scoped>\n",
              "    .dataframe tbody tr th:only-of-type {\n",
              "        vertical-align: middle;\n",
              "    }\n",
              "\n",
              "    .dataframe tbody tr th {\n",
              "        vertical-align: top;\n",
              "    }\n",
              "\n",
              "    .dataframe thead th {\n",
              "        text-align: right;\n",
              "    }\n",
              "</style>\n",
              "<table border=\"1\" class=\"dataframe\">\n",
              "  <thead>\n",
              "    <tr style=\"text-align: right;\">\n",
              "      <th></th>\n",
              "      <th>interval_after_signup</th>\n",
              "    </tr>\n",
              "    <tr>\n",
              "      <th>class</th>\n",
              "      <th></th>\n",
              "    </tr>\n",
              "  </thead>\n",
              "  <tbody>\n",
              "    <tr>\n",
              "      <th>0</th>\n",
              "      <td>5194911.0</td>\n",
              "    </tr>\n",
              "    <tr>\n",
              "      <th>1</th>\n",
              "      <td>1.0</td>\n",
              "    </tr>\n",
              "  </tbody>\n",
              "</table>\n",
              "</div>"
            ],
            "text/plain": [
              "       interval_after_signup\n",
              "class                       \n",
              "0                  5194911.0\n",
              "1                        1.0"
            ]
          },
          "execution_count": 53,
          "metadata": {},
          "output_type": "execute_result"
        }
      ],
      "source": [
        "fraud_data.groupby(\"class\")[['interval_after_signup']].median()\n",
        "#more than half of fraud happened 1s after signed up"
      ]
    },
    {
      "cell_type": "markdown",
      "metadata": {},
      "source": [
        "Median is 1: Fake account -> sign up and places an order immediately -> robot"
      ]
    },
    {
      "cell_type": "code",
      "execution_count": 54,
      "metadata": {
        "colab": {
          "base_uri": "https://localhost:8080/"
        },
        "id": "7Ui_Bk1MulOl",
        "outputId": "7eeb1ae4-7bd5-4873-eff0-dd92b8665fe6"
      },
      "outputs": [
        {
          "data": {
            "text/html": [
              "<div>\n",
              "<style scoped>\n",
              "    .dataframe tbody tr th:only-of-type {\n",
              "        vertical-align: middle;\n",
              "    }\n",
              "\n",
              "    .dataframe tbody tr th {\n",
              "        vertical-align: top;\n",
              "    }\n",
              "\n",
              "    .dataframe thead th {\n",
              "        text-align: right;\n",
              "    }\n",
              "</style>\n",
              "<table border=\"1\" class=\"dataframe\">\n",
              "  <thead>\n",
              "    <tr style=\"text-align: right;\">\n",
              "      <th></th>\n",
              "      <th>purchase_value</th>\n",
              "      <th>device_id</th>\n",
              "      <th>source</th>\n",
              "      <th>browser</th>\n",
              "      <th>sex</th>\n",
              "      <th>age</th>\n",
              "      <th>ip_address</th>\n",
              "      <th>class</th>\n",
              "      <th>country</th>\n",
              "      <th>interval_after_signup</th>\n",
              "      <th>signup_days_of_year</th>\n",
              "      <th>signup_seconds_of_day</th>\n",
              "      <th>purchase_days_of_year</th>\n",
              "      <th>purchase_seconds_of_day</th>\n",
              "    </tr>\n",
              "  </thead>\n",
              "  <tbody>\n",
              "    <tr>\n",
              "      <th>136961</th>\n",
              "      <td>24</td>\n",
              "      <td>VLHGCDPFCICDA</td>\n",
              "      <td>SEO</td>\n",
              "      <td>Chrome</td>\n",
              "      <td>F</td>\n",
              "      <td>33</td>\n",
              "      <td>3.432126e+09</td>\n",
              "      <td>1</td>\n",
              "      <td>United States</td>\n",
              "      <td>3327952.0</td>\n",
              "      <td>218</td>\n",
              "      <td>80113</td>\n",
              "      <td>257</td>\n",
              "      <td>38465</td>\n",
              "    </tr>\n",
              "    <tr>\n",
              "      <th>136962</th>\n",
              "      <td>14</td>\n",
              "      <td>YLUQSRNYYIPXU</td>\n",
              "      <td>Ads</td>\n",
              "      <td>Chrome</td>\n",
              "      <td>M</td>\n",
              "      <td>40</td>\n",
              "      <td>3.905319e+09</td>\n",
              "      <td>1</td>\n",
              "      <td>NA</td>\n",
              "      <td>1.0</td>\n",
              "      <td>12</td>\n",
              "      <td>4207</td>\n",
              "      <td>12</td>\n",
              "      <td>4208</td>\n",
              "    </tr>\n",
              "    <tr>\n",
              "      <th>136963</th>\n",
              "      <td>63</td>\n",
              "      <td>ABUBCQDATQMQH</td>\n",
              "      <td>Ads</td>\n",
              "      <td>FireFox</td>\n",
              "      <td>F</td>\n",
              "      <td>46</td>\n",
              "      <td>5.505670e+08</td>\n",
              "      <td>1</td>\n",
              "      <td>United States</td>\n",
              "      <td>7640070.0</td>\n",
              "      <td>49</td>\n",
              "      <td>40723</td>\n",
              "      <td>137</td>\n",
              "      <td>77593</td>\n",
              "    </tr>\n",
              "    <tr>\n",
              "      <th>136964</th>\n",
              "      <td>34</td>\n",
              "      <td>QHEODGCAVJKIQ</td>\n",
              "      <td>SEO</td>\n",
              "      <td>Chrome</td>\n",
              "      <td>M</td>\n",
              "      <td>37</td>\n",
              "      <td>9.408096e+08</td>\n",
              "      <td>1</td>\n",
              "      <td>United States</td>\n",
              "      <td>1.0</td>\n",
              "      <td>12</td>\n",
              "      <td>77710</td>\n",
              "      <td>12</td>\n",
              "      <td>77711</td>\n",
              "    </tr>\n",
              "    <tr>\n",
              "      <th>136965</th>\n",
              "      <td>76</td>\n",
              "      <td>DAKVYHKIEYRBH</td>\n",
              "      <td>SEO</td>\n",
              "      <td>Chrome</td>\n",
              "      <td>F</td>\n",
              "      <td>48</td>\n",
              "      <td>6.361041e+08</td>\n",
              "      <td>1</td>\n",
              "      <td>Hungary</td>\n",
              "      <td>1.0</td>\n",
              "      <td>10</td>\n",
              "      <td>48421</td>\n",
              "      <td>10</td>\n",
              "      <td>48422</td>\n",
              "    </tr>\n",
              "    <tr>\n",
              "      <th>...</th>\n",
              "      <td>...</td>\n",
              "      <td>...</td>\n",
              "      <td>...</td>\n",
              "      <td>...</td>\n",
              "      <td>...</td>\n",
              "      <td>...</td>\n",
              "      <td>...</td>\n",
              "      <td>...</td>\n",
              "      <td>...</td>\n",
              "      <td>...</td>\n",
              "      <td>...</td>\n",
              "      <td>...</td>\n",
              "      <td>...</td>\n",
              "      <td>...</td>\n",
              "    </tr>\n",
              "    <tr>\n",
              "      <th>137056</th>\n",
              "      <td>21</td>\n",
              "      <td>AIGPGDVRDKOKT</td>\n",
              "      <td>SEO</td>\n",
              "      <td>FireFox</td>\n",
              "      <td>F</td>\n",
              "      <td>45</td>\n",
              "      <td>3.058136e+09</td>\n",
              "      <td>1</td>\n",
              "      <td>India</td>\n",
              "      <td>1.0</td>\n",
              "      <td>2</td>\n",
              "      <td>69762</td>\n",
              "      <td>2</td>\n",
              "      <td>69763</td>\n",
              "    </tr>\n",
              "    <tr>\n",
              "      <th>137057</th>\n",
              "      <td>52</td>\n",
              "      <td>PQGKGQACIARBV</td>\n",
              "      <td>Ads</td>\n",
              "      <td>Chrome</td>\n",
              "      <td>F</td>\n",
              "      <td>36</td>\n",
              "      <td>7.203338e+08</td>\n",
              "      <td>1</td>\n",
              "      <td>China</td>\n",
              "      <td>1.0</td>\n",
              "      <td>9</td>\n",
              "      <td>77018</td>\n",
              "      <td>9</td>\n",
              "      <td>77019</td>\n",
              "    </tr>\n",
              "    <tr>\n",
              "      <th>137058</th>\n",
              "      <td>54</td>\n",
              "      <td>XHZBVWFWHSGTQ</td>\n",
              "      <td>SEO</td>\n",
              "      <td>FireFox</td>\n",
              "      <td>M</td>\n",
              "      <td>50</td>\n",
              "      <td>2.249217e+09</td>\n",
              "      <td>1</td>\n",
              "      <td>United States</td>\n",
              "      <td>1.0</td>\n",
              "      <td>1</td>\n",
              "      <td>32483</td>\n",
              "      <td>1</td>\n",
              "      <td>32484</td>\n",
              "    </tr>\n",
              "    <tr>\n",
              "      <th>137059</th>\n",
              "      <td>10</td>\n",
              "      <td>WETYPHOQVLWMK</td>\n",
              "      <td>Ads</td>\n",
              "      <td>FireFox</td>\n",
              "      <td>M</td>\n",
              "      <td>36</td>\n",
              "      <td>2.293333e+09</td>\n",
              "      <td>1</td>\n",
              "      <td>United States</td>\n",
              "      <td>1.0</td>\n",
              "      <td>7</td>\n",
              "      <td>63914</td>\n",
              "      <td>7</td>\n",
              "      <td>63915</td>\n",
              "    </tr>\n",
              "    <tr>\n",
              "      <th>137060</th>\n",
              "      <td>69</td>\n",
              "      <td>UWEPEOUQYEPZF</td>\n",
              "      <td>Direct</td>\n",
              "      <td>Chrome</td>\n",
              "      <td>M</td>\n",
              "      <td>36</td>\n",
              "      <td>2.534293e+09</td>\n",
              "      <td>1</td>\n",
              "      <td>Italy</td>\n",
              "      <td>1.0</td>\n",
              "      <td>8</td>\n",
              "      <td>41850</td>\n",
              "      <td>8</td>\n",
              "      <td>41851</td>\n",
              "    </tr>\n",
              "  </tbody>\n",
              "</table>\n",
              "<p>100 rows × 14 columns</p>\n",
              "</div>"
            ],
            "text/plain": [
              "        purchase_value      device_id  source  browser sex  age    ip_address  \\\n",
              "136961              24  VLHGCDPFCICDA     SEO   Chrome   F   33  3.432126e+09   \n",
              "136962              14  YLUQSRNYYIPXU     Ads   Chrome   M   40  3.905319e+09   \n",
              "136963              63  ABUBCQDATQMQH     Ads  FireFox   F   46  5.505670e+08   \n",
              "136964              34  QHEODGCAVJKIQ     SEO   Chrome   M   37  9.408096e+08   \n",
              "136965              76  DAKVYHKIEYRBH     SEO   Chrome   F   48  6.361041e+08   \n",
              "...                ...            ...     ...      ...  ..  ...           ...   \n",
              "137056              21  AIGPGDVRDKOKT     SEO  FireFox   F   45  3.058136e+09   \n",
              "137057              52  PQGKGQACIARBV     Ads   Chrome   F   36  7.203338e+08   \n",
              "137058              54  XHZBVWFWHSGTQ     SEO  FireFox   M   50  2.249217e+09   \n",
              "137059              10  WETYPHOQVLWMK     Ads  FireFox   M   36  2.293333e+09   \n",
              "137060              69  UWEPEOUQYEPZF  Direct   Chrome   M   36  2.534293e+09   \n",
              "\n",
              "        class        country  interval_after_signup  signup_days_of_year  \\\n",
              "136961      1  United States              3327952.0                  218   \n",
              "136962      1             NA                    1.0                   12   \n",
              "136963      1  United States              7640070.0                   49   \n",
              "136964      1  United States                    1.0                   12   \n",
              "136965      1        Hungary                    1.0                   10   \n",
              "...       ...            ...                    ...                  ...   \n",
              "137056      1          India                    1.0                    2   \n",
              "137057      1          China                    1.0                    9   \n",
              "137058      1  United States                    1.0                    1   \n",
              "137059      1  United States                    1.0                    7   \n",
              "137060      1          Italy                    1.0                    8   \n",
              "\n",
              "        signup_seconds_of_day  purchase_days_of_year  purchase_seconds_of_day  \n",
              "136961                  80113                    257                    38465  \n",
              "136962                   4207                     12                     4208  \n",
              "136963                  40723                    137                    77593  \n",
              "136964                  77710                     12                    77711  \n",
              "136965                  48421                     10                    48422  \n",
              "...                       ...                    ...                      ...  \n",
              "137056                  69762                      2                    69763  \n",
              "137057                  77018                      9                    77019  \n",
              "137058                  32483                      1                    32484  \n",
              "137059                  63914                      7                    63915  \n",
              "137060                  41850                      8                    41851  \n",
              "\n",
              "[100 rows x 14 columns]"
            ]
          },
          "execution_count": 54,
          "metadata": {},
          "output_type": "execute_result"
        }
      ],
      "source": [
        "fraud_data[fraud_data['class'] == 1].head(100)"
      ]
    },
    {
      "cell_type": "markdown",
      "metadata": {},
      "source": [
        "# Part 8: Usage of the prediction"
      ]
    },
    {
      "cell_type": "code",
      "execution_count": 79,
      "metadata": {
        "colab": {
          "base_uri": "https://localhost:8080/"
        },
        "id": "EIv6OBKkuny9",
        "outputId": "17926fed-154e-40d6-a743-e927b6152864"
      },
      "outputs": [
        {
          "name": "stdout",
          "output_type": "stream",
          "text": [
            "[[    1     1]\n",
            " [    2 24555]\n",
            " [    3  2623]\n",
            " [    4    99]\n",
            " [    5   177]\n",
            " [    6    76]\n",
            " [    7     1]\n",
            " [    8    20]\n",
            " [    9   124]]\n"
          ]
        }
      ],
      "source": [
        "t = (10 * probsBest_recall[:, 1]).astype(int)\n",
        "unique, counts = np.unique(t, return_counts=True)\n",
        "\n",
        "print(np.asarray((unique, counts)).T)"
      ]
    },
    {
      "cell_type": "markdown",
      "metadata": {},
      "source": [
        "Recommended:\n",
        "* green: 1 - 3 pass\n",
        "* *grey: 4 - 7 need manual investigation\n",
        "* *red: 8 - 9 decline"
      ]
    },
    {
      "cell_type": "code",
      "execution_count": 65,
      "metadata": {
        "id": "giPAG7yHuuSK"
      },
      "outputs": [
        {
          "data": {
            "text/plain": [
              "array([[0.70205206, 0.29794794],\n",
              "       [0.70917841, 0.29082159],\n",
              "       [0.70522289, 0.29477711],\n",
              "       ...,\n",
              "       [0.7096945 , 0.2903055 ],\n",
              "       [0.70465921, 0.29534079],\n",
              "       [0.73310676, 0.26689324]])"
            ]
          },
          "execution_count": 65,
          "metadata": {},
          "output_type": "execute_result"
        }
      ],
      "source": [
        "probsBest_recall"
      ]
    },
    {
      "cell_type": "code",
      "execution_count": null,
      "metadata": {},
      "outputs": [],
      "source": []
    }
  ],
  "metadata": {
    "colab": {
      "provenance": [],
      "toc_visible": true
    },
    "kernelspec": {
      "display_name": "Python 3",
      "name": "python3"
    },
    "language_info": {
      "codemirror_mode": {
        "name": "ipython",
        "version": 3
      },
      "file_extension": ".py",
      "mimetype": "text/x-python",
      "name": "python",
      "nbconvert_exporter": "python",
      "pygments_lexer": "ipython3",
      "version": "3.9.6"
    },
    "widgets": {
      "application/vnd.jupyter.widget-state+json": {
        "041c26cdb81b4263a99c774b16c77d12": {
          "model_module": "@jupyter-widgets/controls",
          "model_module_version": "1.5.0",
          "model_name": "FloatProgressModel",
          "state": {
            "_dom_classes": [],
            "_model_module": "@jupyter-widgets/controls",
            "_model_module_version": "1.5.0",
            "_model_name": "FloatProgressModel",
            "_view_count": null,
            "_view_module": "@jupyter-widgets/controls",
            "_view_module_version": "1.5.0",
            "_view_name": "ProgressView",
            "bar_style": "success",
            "description": "Generate report structure: 100%",
            "description_tooltip": null,
            "layout": "IPY_MODEL_91bfc95640bf4136aa5cababd5a9b311",
            "max": 1,
            "min": 0,
            "orientation": "horizontal",
            "style": "IPY_MODEL_da109d1da7ce4a2d8527c3b79b591977",
            "value": 1
          }
        },
        "0b0dc64cac7d4b7ea1bed82aad3daf01": {
          "model_module": "@jupyter-widgets/controls",
          "model_module_version": "1.5.0",
          "model_name": "DescriptionStyleModel",
          "state": {
            "_model_module": "@jupyter-widgets/controls",
            "_model_module_version": "1.5.0",
            "_model_name": "DescriptionStyleModel",
            "_view_count": null,
            "_view_module": "@jupyter-widgets/base",
            "_view_module_version": "1.2.0",
            "_view_name": "StyleView",
            "description_width": ""
          }
        },
        "281985ccb032407a9b1055680def95bb": {
          "model_module": "@jupyter-widgets/controls",
          "model_module_version": "1.5.0",
          "model_name": "HTMLModel",
          "state": {
            "_dom_classes": [],
            "_model_module": "@jupyter-widgets/controls",
            "_model_module_version": "1.5.0",
            "_model_name": "HTMLModel",
            "_view_count": null,
            "_view_module": "@jupyter-widgets/controls",
            "_view_module_version": "1.5.0",
            "_view_name": "HTMLView",
            "description": "",
            "description_tooltip": null,
            "layout": "IPY_MODEL_54eb8a6b80ac403c9faf690965101f7e",
            "placeholder": "​",
            "style": "IPY_MODEL_ff409687574f47e1a5f35136f639255f",
            "value": " 1/1 [00:00&lt;00:00,  1.09it/s]"
          }
        },
        "32ec186b2f6044159ea8a4365ad1e934": {
          "model_module": "@jupyter-widgets/controls",
          "model_module_version": "1.5.0",
          "model_name": "ProgressStyleModel",
          "state": {
            "_model_module": "@jupyter-widgets/controls",
            "_model_module_version": "1.5.0",
            "_model_name": "ProgressStyleModel",
            "_view_count": null,
            "_view_module": "@jupyter-widgets/base",
            "_view_module_version": "1.2.0",
            "_view_name": "StyleView",
            "bar_color": null,
            "description_width": "initial"
          }
        },
        "42f08b8865ce49dd89e757f0349942d9": {
          "model_module": "@jupyter-widgets/base",
          "model_module_version": "1.2.0",
          "model_name": "LayoutModel",
          "state": {
            "_model_module": "@jupyter-widgets/base",
            "_model_module_version": "1.2.0",
            "_model_name": "LayoutModel",
            "_view_count": null,
            "_view_module": "@jupyter-widgets/base",
            "_view_module_version": "1.2.0",
            "_view_name": "LayoutView",
            "align_content": null,
            "align_items": null,
            "align_self": null,
            "border": null,
            "bottom": null,
            "display": null,
            "flex": null,
            "flex_flow": null,
            "grid_area": null,
            "grid_auto_columns": null,
            "grid_auto_flow": null,
            "grid_auto_rows": null,
            "grid_column": null,
            "grid_gap": null,
            "grid_row": null,
            "grid_template_areas": null,
            "grid_template_columns": null,
            "grid_template_rows": null,
            "height": null,
            "justify_content": null,
            "justify_items": null,
            "left": null,
            "margin": null,
            "max_height": null,
            "max_width": null,
            "min_height": null,
            "min_width": null,
            "object_fit": null,
            "object_position": null,
            "order": null,
            "overflow": null,
            "overflow_x": null,
            "overflow_y": null,
            "padding": null,
            "right": null,
            "top": null,
            "visibility": null,
            "width": null
          }
        },
        "4e92e82795664b25ba971c748fcc369c": {
          "model_module": "@jupyter-widgets/base",
          "model_module_version": "1.2.0",
          "model_name": "LayoutModel",
          "state": {
            "_model_module": "@jupyter-widgets/base",
            "_model_module_version": "1.2.0",
            "_model_name": "LayoutModel",
            "_view_count": null,
            "_view_module": "@jupyter-widgets/base",
            "_view_module_version": "1.2.0",
            "_view_name": "LayoutView",
            "align_content": null,
            "align_items": null,
            "align_self": null,
            "border": null,
            "bottom": null,
            "display": null,
            "flex": null,
            "flex_flow": null,
            "grid_area": null,
            "grid_auto_columns": null,
            "grid_auto_flow": null,
            "grid_auto_rows": null,
            "grid_column": null,
            "grid_gap": null,
            "grid_row": null,
            "grid_template_areas": null,
            "grid_template_columns": null,
            "grid_template_rows": null,
            "height": null,
            "justify_content": null,
            "justify_items": null,
            "left": null,
            "margin": null,
            "max_height": null,
            "max_width": null,
            "min_height": null,
            "min_width": null,
            "object_fit": null,
            "object_position": null,
            "order": null,
            "overflow": null,
            "overflow_x": null,
            "overflow_y": null,
            "padding": null,
            "right": null,
            "top": null,
            "visibility": null,
            "width": null
          }
        },
        "4ead281ca47d4f3ca407d033b5574ec5": {
          "model_module": "@jupyter-widgets/controls",
          "model_module_version": "1.5.0",
          "model_name": "ProgressStyleModel",
          "state": {
            "_model_module": "@jupyter-widgets/controls",
            "_model_module_version": "1.5.0",
            "_model_name": "ProgressStyleModel",
            "_view_count": null,
            "_view_module": "@jupyter-widgets/base",
            "_view_module_version": "1.2.0",
            "_view_name": "StyleView",
            "bar_color": null,
            "description_width": "initial"
          }
        },
        "54eb8a6b80ac403c9faf690965101f7e": {
          "model_module": "@jupyter-widgets/base",
          "model_module_version": "1.2.0",
          "model_name": "LayoutModel",
          "state": {
            "_model_module": "@jupyter-widgets/base",
            "_model_module_version": "1.2.0",
            "_model_name": "LayoutModel",
            "_view_count": null,
            "_view_module": "@jupyter-widgets/base",
            "_view_module_version": "1.2.0",
            "_view_name": "LayoutView",
            "align_content": null,
            "align_items": null,
            "align_self": null,
            "border": null,
            "bottom": null,
            "display": null,
            "flex": null,
            "flex_flow": null,
            "grid_area": null,
            "grid_auto_columns": null,
            "grid_auto_flow": null,
            "grid_auto_rows": null,
            "grid_column": null,
            "grid_gap": null,
            "grid_row": null,
            "grid_template_areas": null,
            "grid_template_columns": null,
            "grid_template_rows": null,
            "height": null,
            "justify_content": null,
            "justify_items": null,
            "left": null,
            "margin": null,
            "max_height": null,
            "max_width": null,
            "min_height": null,
            "min_width": null,
            "object_fit": null,
            "object_position": null,
            "order": null,
            "overflow": null,
            "overflow_x": null,
            "overflow_y": null,
            "padding": null,
            "right": null,
            "top": null,
            "visibility": null,
            "width": null
          }
        },
        "588bee81f8d54b5484d7e69680ef1b47": {
          "model_module": "@jupyter-widgets/base",
          "model_module_version": "1.2.0",
          "model_name": "LayoutModel",
          "state": {
            "_model_module": "@jupyter-widgets/base",
            "_model_module_version": "1.2.0",
            "_model_name": "LayoutModel",
            "_view_count": null,
            "_view_module": "@jupyter-widgets/base",
            "_view_module_version": "1.2.0",
            "_view_name": "LayoutView",
            "align_content": null,
            "align_items": null,
            "align_self": null,
            "border": null,
            "bottom": null,
            "display": null,
            "flex": null,
            "flex_flow": null,
            "grid_area": null,
            "grid_auto_columns": null,
            "grid_auto_flow": null,
            "grid_auto_rows": null,
            "grid_column": null,
            "grid_gap": null,
            "grid_row": null,
            "grid_template_areas": null,
            "grid_template_columns": null,
            "grid_template_rows": null,
            "height": null,
            "justify_content": null,
            "justify_items": null,
            "left": null,
            "margin": null,
            "max_height": null,
            "max_width": null,
            "min_height": null,
            "min_width": null,
            "object_fit": null,
            "object_position": null,
            "order": null,
            "overflow": null,
            "overflow_x": null,
            "overflow_y": null,
            "padding": null,
            "right": null,
            "top": null,
            "visibility": null,
            "width": null
          }
        },
        "5a3a627f0ab84f189aab41e035f7e71d": {
          "model_module": "@jupyter-widgets/controls",
          "model_module_version": "1.5.0",
          "model_name": "HTMLModel",
          "state": {
            "_dom_classes": [],
            "_model_module": "@jupyter-widgets/controls",
            "_model_module_version": "1.5.0",
            "_model_name": "HTMLModel",
            "_view_count": null,
            "_view_module": "@jupyter-widgets/controls",
            "_view_module_version": "1.5.0",
            "_view_name": "HTMLView",
            "description": "",
            "description_tooltip": null,
            "layout": "IPY_MODEL_42f08b8865ce49dd89e757f0349942d9",
            "placeholder": "​",
            "style": "IPY_MODEL_9abdb21bad9e4f91bfa8b09f986bff1f",
            "value": " 1/1 [00:06&lt;00:00,  6.11s/it]"
          }
        },
        "61217bdd968d44a8b2ca02795d8cd3c3": {
          "model_module": "@jupyter-widgets/base",
          "model_module_version": "1.2.0",
          "model_name": "LayoutModel",
          "state": {
            "_model_module": "@jupyter-widgets/base",
            "_model_module_version": "1.2.0",
            "_model_name": "LayoutModel",
            "_view_count": null,
            "_view_module": "@jupyter-widgets/base",
            "_view_module_version": "1.2.0",
            "_view_name": "LayoutView",
            "align_content": null,
            "align_items": null,
            "align_self": null,
            "border": null,
            "bottom": null,
            "display": null,
            "flex": null,
            "flex_flow": null,
            "grid_area": null,
            "grid_auto_columns": null,
            "grid_auto_flow": null,
            "grid_auto_rows": null,
            "grid_column": null,
            "grid_gap": null,
            "grid_row": null,
            "grid_template_areas": null,
            "grid_template_columns": null,
            "grid_template_rows": null,
            "height": null,
            "justify_content": null,
            "justify_items": null,
            "left": null,
            "margin": null,
            "max_height": null,
            "max_width": null,
            "min_height": null,
            "min_width": null,
            "object_fit": null,
            "object_position": null,
            "order": null,
            "overflow": null,
            "overflow_x": null,
            "overflow_y": null,
            "padding": null,
            "right": null,
            "top": null,
            "visibility": null,
            "width": null
          }
        },
        "656b8fbaf1784ad19f17208ba5214b28": {
          "model_module": "@jupyter-widgets/base",
          "model_module_version": "1.2.0",
          "model_name": "LayoutModel",
          "state": {
            "_model_module": "@jupyter-widgets/base",
            "_model_module_version": "1.2.0",
            "_model_name": "LayoutModel",
            "_view_count": null,
            "_view_module": "@jupyter-widgets/base",
            "_view_module_version": "1.2.0",
            "_view_name": "LayoutView",
            "align_content": null,
            "align_items": null,
            "align_self": null,
            "border": null,
            "bottom": null,
            "display": null,
            "flex": null,
            "flex_flow": null,
            "grid_area": null,
            "grid_auto_columns": null,
            "grid_auto_flow": null,
            "grid_auto_rows": null,
            "grid_column": null,
            "grid_gap": null,
            "grid_row": null,
            "grid_template_areas": null,
            "grid_template_columns": null,
            "grid_template_rows": null,
            "height": null,
            "justify_content": null,
            "justify_items": null,
            "left": null,
            "margin": null,
            "max_height": null,
            "max_width": null,
            "min_height": null,
            "min_width": null,
            "object_fit": null,
            "object_position": null,
            "order": null,
            "overflow": null,
            "overflow_x": null,
            "overflow_y": null,
            "padding": null,
            "right": null,
            "top": null,
            "visibility": null,
            "width": null
          }
        },
        "91bfc95640bf4136aa5cababd5a9b311": {
          "model_module": "@jupyter-widgets/base",
          "model_module_version": "1.2.0",
          "model_name": "LayoutModel",
          "state": {
            "_model_module": "@jupyter-widgets/base",
            "_model_module_version": "1.2.0",
            "_model_name": "LayoutModel",
            "_view_count": null,
            "_view_module": "@jupyter-widgets/base",
            "_view_module_version": "1.2.0",
            "_view_name": "LayoutView",
            "align_content": null,
            "align_items": null,
            "align_self": null,
            "border": null,
            "bottom": null,
            "display": null,
            "flex": null,
            "flex_flow": null,
            "grid_area": null,
            "grid_auto_columns": null,
            "grid_auto_flow": null,
            "grid_auto_rows": null,
            "grid_column": null,
            "grid_gap": null,
            "grid_row": null,
            "grid_template_areas": null,
            "grid_template_columns": null,
            "grid_template_rows": null,
            "height": null,
            "justify_content": null,
            "justify_items": null,
            "left": null,
            "margin": null,
            "max_height": null,
            "max_width": null,
            "min_height": null,
            "min_width": null,
            "object_fit": null,
            "object_position": null,
            "order": null,
            "overflow": null,
            "overflow_x": null,
            "overflow_y": null,
            "padding": null,
            "right": null,
            "top": null,
            "visibility": null,
            "width": null
          }
        },
        "9abdb21bad9e4f91bfa8b09f986bff1f": {
          "model_module": "@jupyter-widgets/controls",
          "model_module_version": "1.5.0",
          "model_name": "DescriptionStyleModel",
          "state": {
            "_model_module": "@jupyter-widgets/controls",
            "_model_module_version": "1.5.0",
            "_model_name": "DescriptionStyleModel",
            "_view_count": null,
            "_view_module": "@jupyter-widgets/base",
            "_view_module_version": "1.2.0",
            "_view_name": "StyleView",
            "description_width": ""
          }
        },
        "9c9e480b033c49b2893df0081ec6a65d": {
          "model_module": "@jupyter-widgets/controls",
          "model_module_version": "1.5.0",
          "model_name": "HBoxModel",
          "state": {
            "_dom_classes": [],
            "_model_module": "@jupyter-widgets/controls",
            "_model_module_version": "1.5.0",
            "_model_name": "HBoxModel",
            "_view_count": null,
            "_view_module": "@jupyter-widgets/controls",
            "_view_module_version": "1.5.0",
            "_view_name": "HBoxView",
            "box_style": "",
            "children": [
              "IPY_MODEL_e708b62ee9ae4036b78046b70c3b9668",
              "IPY_MODEL_c2e85a10e9814dc38bba98b0cbee0a0d"
            ],
            "layout": "IPY_MODEL_61217bdd968d44a8b2ca02795d8cd3c3"
          }
        },
        "ba79e4081b124dd7a3afcefbc2208d69": {
          "model_module": "@jupyter-widgets/controls",
          "model_module_version": "1.5.0",
          "model_name": "FloatProgressModel",
          "state": {
            "_dom_classes": [],
            "_model_module": "@jupyter-widgets/controls",
            "_model_module_version": "1.5.0",
            "_model_name": "FloatProgressModel",
            "_view_count": null,
            "_view_module": "@jupyter-widgets/controls",
            "_view_module_version": "1.5.0",
            "_view_name": "ProgressView",
            "bar_style": "success",
            "description": "Render HTML: 100%",
            "description_tooltip": null,
            "layout": "IPY_MODEL_c66bafdc0c45439f9c5d4c7c4d36df84",
            "max": 1,
            "min": 0,
            "orientation": "horizontal",
            "style": "IPY_MODEL_32ec186b2f6044159ea8a4365ad1e934",
            "value": 1
          }
        },
        "c2e85a10e9814dc38bba98b0cbee0a0d": {
          "model_module": "@jupyter-widgets/controls",
          "model_module_version": "1.5.0",
          "model_name": "HTMLModel",
          "state": {
            "_dom_classes": [],
            "_model_module": "@jupyter-widgets/controls",
            "_model_module_version": "1.5.0",
            "_model_name": "HTMLModel",
            "_view_count": null,
            "_view_module": "@jupyter-widgets/controls",
            "_view_module_version": "1.5.0",
            "_view_name": "HTMLView",
            "description": "",
            "description_tooltip": null,
            "layout": "IPY_MODEL_4e92e82795664b25ba971c748fcc369c",
            "placeholder": "​",
            "style": "IPY_MODEL_0b0dc64cac7d4b7ea1bed82aad3daf01",
            "value": " 25/25 [00:14&lt;00:00,  1.78it/s, Completed]"
          }
        },
        "c66bafdc0c45439f9c5d4c7c4d36df84": {
          "model_module": "@jupyter-widgets/base",
          "model_module_version": "1.2.0",
          "model_name": "LayoutModel",
          "state": {
            "_model_module": "@jupyter-widgets/base",
            "_model_module_version": "1.2.0",
            "_model_name": "LayoutModel",
            "_view_count": null,
            "_view_module": "@jupyter-widgets/base",
            "_view_module_version": "1.2.0",
            "_view_name": "LayoutView",
            "align_content": null,
            "align_items": null,
            "align_self": null,
            "border": null,
            "bottom": null,
            "display": null,
            "flex": null,
            "flex_flow": null,
            "grid_area": null,
            "grid_auto_columns": null,
            "grid_auto_flow": null,
            "grid_auto_rows": null,
            "grid_column": null,
            "grid_gap": null,
            "grid_row": null,
            "grid_template_areas": null,
            "grid_template_columns": null,
            "grid_template_rows": null,
            "height": null,
            "justify_content": null,
            "justify_items": null,
            "left": null,
            "margin": null,
            "max_height": null,
            "max_width": null,
            "min_height": null,
            "min_width": null,
            "object_fit": null,
            "object_position": null,
            "order": null,
            "overflow": null,
            "overflow_x": null,
            "overflow_y": null,
            "padding": null,
            "right": null,
            "top": null,
            "visibility": null,
            "width": null
          }
        },
        "cbde2a5b18564e8790c38766bae7fa62": {
          "model_module": "@jupyter-widgets/base",
          "model_module_version": "1.2.0",
          "model_name": "LayoutModel",
          "state": {
            "_model_module": "@jupyter-widgets/base",
            "_model_module_version": "1.2.0",
            "_model_name": "LayoutModel",
            "_view_count": null,
            "_view_module": "@jupyter-widgets/base",
            "_view_module_version": "1.2.0",
            "_view_name": "LayoutView",
            "align_content": null,
            "align_items": null,
            "align_self": null,
            "border": null,
            "bottom": null,
            "display": null,
            "flex": null,
            "flex_flow": null,
            "grid_area": null,
            "grid_auto_columns": null,
            "grid_auto_flow": null,
            "grid_auto_rows": null,
            "grid_column": null,
            "grid_gap": null,
            "grid_row": null,
            "grid_template_areas": null,
            "grid_template_columns": null,
            "grid_template_rows": null,
            "height": null,
            "justify_content": null,
            "justify_items": null,
            "left": null,
            "margin": null,
            "max_height": null,
            "max_width": null,
            "min_height": null,
            "min_width": null,
            "object_fit": null,
            "object_position": null,
            "order": null,
            "overflow": null,
            "overflow_x": null,
            "overflow_y": null,
            "padding": null,
            "right": null,
            "top": null,
            "visibility": null,
            "width": null
          }
        },
        "d25b43e743c54dcab32f97a3f30e8e66": {
          "model_module": "@jupyter-widgets/controls",
          "model_module_version": "1.5.0",
          "model_name": "HBoxModel",
          "state": {
            "_dom_classes": [],
            "_model_module": "@jupyter-widgets/controls",
            "_model_module_version": "1.5.0",
            "_model_name": "HBoxModel",
            "_view_count": null,
            "_view_module": "@jupyter-widgets/controls",
            "_view_module_version": "1.5.0",
            "_view_name": "HBoxView",
            "box_style": "",
            "children": [
              "IPY_MODEL_ba79e4081b124dd7a3afcefbc2208d69",
              "IPY_MODEL_281985ccb032407a9b1055680def95bb"
            ],
            "layout": "IPY_MODEL_cbde2a5b18564e8790c38766bae7fa62"
          }
        },
        "d8ffa655da36456d9d0d4642336acf0c": {
          "model_module": "@jupyter-widgets/controls",
          "model_module_version": "1.5.0",
          "model_name": "HBoxModel",
          "state": {
            "_dom_classes": [],
            "_model_module": "@jupyter-widgets/controls",
            "_model_module_version": "1.5.0",
            "_model_name": "HBoxModel",
            "_view_count": null,
            "_view_module": "@jupyter-widgets/controls",
            "_view_module_version": "1.5.0",
            "_view_name": "HBoxView",
            "box_style": "",
            "children": [
              "IPY_MODEL_041c26cdb81b4263a99c774b16c77d12",
              "IPY_MODEL_5a3a627f0ab84f189aab41e035f7e71d"
            ],
            "layout": "IPY_MODEL_588bee81f8d54b5484d7e69680ef1b47"
          }
        },
        "da109d1da7ce4a2d8527c3b79b591977": {
          "model_module": "@jupyter-widgets/controls",
          "model_module_version": "1.5.0",
          "model_name": "ProgressStyleModel",
          "state": {
            "_model_module": "@jupyter-widgets/controls",
            "_model_module_version": "1.5.0",
            "_model_name": "ProgressStyleModel",
            "_view_count": null,
            "_view_module": "@jupyter-widgets/base",
            "_view_module_version": "1.2.0",
            "_view_name": "StyleView",
            "bar_color": null,
            "description_width": "initial"
          }
        },
        "e708b62ee9ae4036b78046b70c3b9668": {
          "model_module": "@jupyter-widgets/controls",
          "model_module_version": "1.5.0",
          "model_name": "FloatProgressModel",
          "state": {
            "_dom_classes": [],
            "_model_module": "@jupyter-widgets/controls",
            "_model_module_version": "1.5.0",
            "_model_name": "FloatProgressModel",
            "_view_count": null,
            "_view_module": "@jupyter-widgets/controls",
            "_view_module_version": "1.5.0",
            "_view_name": "ProgressView",
            "bar_style": "success",
            "description": "Summarize dataset: 100%",
            "description_tooltip": null,
            "layout": "IPY_MODEL_656b8fbaf1784ad19f17208ba5214b28",
            "max": 25,
            "min": 0,
            "orientation": "horizontal",
            "style": "IPY_MODEL_4ead281ca47d4f3ca407d033b5574ec5",
            "value": 25
          }
        },
        "ff409687574f47e1a5f35136f639255f": {
          "model_module": "@jupyter-widgets/controls",
          "model_module_version": "1.5.0",
          "model_name": "DescriptionStyleModel",
          "state": {
            "_model_module": "@jupyter-widgets/controls",
            "_model_module_version": "1.5.0",
            "_model_name": "DescriptionStyleModel",
            "_view_count": null,
            "_view_module": "@jupyter-widgets/base",
            "_view_module_version": "1.2.0",
            "_view_name": "StyleView",
            "description_width": ""
          }
        }
      }
    }
  },
  "nbformat": 4,
  "nbformat_minor": 0
}
